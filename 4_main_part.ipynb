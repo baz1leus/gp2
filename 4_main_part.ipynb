{
 "cells": [
  {
   "cell_type": "code",
   "execution_count": 471,
   "metadata": {},
   "outputs": [
    {
     "data": {
      "text/html": [
       "<div>\n",
       "<style scoped>\n",
       "    .dataframe tbody tr th:only-of-type {\n",
       "        vertical-align: middle;\n",
       "    }\n",
       "\n",
       "    .dataframe tbody tr th {\n",
       "        vertical-align: top;\n",
       "    }\n",
       "\n",
       "    .dataframe thead th {\n",
       "        text-align: right;\n",
       "    }\n",
       "</style>\n",
       "<table border=\"1\" class=\"dataframe\">\n",
       "  <thead>\n",
       "    <tr style=\"text-align: right;\">\n",
       "      <th></th>\n",
       "      <th>stock_permalink</th>\n",
       "      <th>closing_price</th>\n",
       "      <th>stock_id</th>\n",
       "      <th>avg_short_volume</th>\n",
       "      <th>put_call_ratio</th>\n",
       "      <th>total_volume</th>\n",
       "      <th>sell_buy_ratio</th>\n",
       "      <th>date</th>\n",
       "      <th>market_cap_13f</th>\n",
       "      <th>total_shares</th>\n",
       "      <th>name</th>\n",
       "      <th>quarter_id</th>\n",
       "      <th>average_ranking</th>\n",
       "      <th>net_buys</th>\n",
       "      <th>held_by</th>\n",
       "      <th>yf_ticker</th>\n",
       "    </tr>\n",
       "  </thead>\n",
       "  <tbody>\n",
       "    <tr>\n",
       "      <th>0</th>\n",
       "      <td>aavl</td>\n",
       "      <td>10.00</td>\n",
       "      <td>173039</td>\n",
       "      <td>111110.0</td>\n",
       "      <td>0.009147</td>\n",
       "      <td>55649.0</td>\n",
       "      <td>NaN</td>\n",
       "      <td>2022-10-03</td>\n",
       "      <td>33238852.0</td>\n",
       "      <td>5730320</td>\n",
       "      <td>AVALANCHE BIOTECHNOLOGIES INC</td>\n",
       "      <td>88</td>\n",
       "      <td>2942.0</td>\n",
       "      <td>-22.0</td>\n",
       "      <td>59</td>\n",
       "      <td>None</td>\n",
       "    </tr>\n",
       "    <tr>\n",
       "      <th>1</th>\n",
       "      <td>aavl</td>\n",
       "      <td>10.30</td>\n",
       "      <td>173039</td>\n",
       "      <td>34338.0</td>\n",
       "      <td>0.009147</td>\n",
       "      <td>19911.0</td>\n",
       "      <td>NaN</td>\n",
       "      <td>2022-10-04</td>\n",
       "      <td>33238852.0</td>\n",
       "      <td>5730320</td>\n",
       "      <td>AVALANCHE BIOTECHNOLOGIES INC</td>\n",
       "      <td>88</td>\n",
       "      <td>2942.0</td>\n",
       "      <td>-22.0</td>\n",
       "      <td>59</td>\n",
       "      <td>None</td>\n",
       "    </tr>\n",
       "    <tr>\n",
       "      <th>2</th>\n",
       "      <td>aavl</td>\n",
       "      <td>10.10</td>\n",
       "      <td>173039</td>\n",
       "      <td>40076.0</td>\n",
       "      <td>0.009147</td>\n",
       "      <td>17821.0</td>\n",
       "      <td>NaN</td>\n",
       "      <td>2022-10-05</td>\n",
       "      <td>33238852.0</td>\n",
       "      <td>5730320</td>\n",
       "      <td>AVALANCHE BIOTECHNOLOGIES INC</td>\n",
       "      <td>88</td>\n",
       "      <td>2942.0</td>\n",
       "      <td>-22.0</td>\n",
       "      <td>59</td>\n",
       "      <td>None</td>\n",
       "    </tr>\n",
       "    <tr>\n",
       "      <th>3</th>\n",
       "      <td>aavl</td>\n",
       "      <td>10.20</td>\n",
       "      <td>173039</td>\n",
       "      <td>61479.0</td>\n",
       "      <td>0.009147</td>\n",
       "      <td>22047.0</td>\n",
       "      <td>NaN</td>\n",
       "      <td>2022-10-06</td>\n",
       "      <td>33238852.0</td>\n",
       "      <td>5730320</td>\n",
       "      <td>AVALANCHE BIOTECHNOLOGIES INC</td>\n",
       "      <td>88</td>\n",
       "      <td>2942.0</td>\n",
       "      <td>-22.0</td>\n",
       "      <td>59</td>\n",
       "      <td>None</td>\n",
       "    </tr>\n",
       "    <tr>\n",
       "      <th>4</th>\n",
       "      <td>aavl</td>\n",
       "      <td>9.75</td>\n",
       "      <td>173039</td>\n",
       "      <td>38977.0</td>\n",
       "      <td>0.009147</td>\n",
       "      <td>18316.0</td>\n",
       "      <td>NaN</td>\n",
       "      <td>2022-10-07</td>\n",
       "      <td>33238852.0</td>\n",
       "      <td>5730320</td>\n",
       "      <td>AVALANCHE BIOTECHNOLOGIES INC</td>\n",
       "      <td>88</td>\n",
       "      <td>2942.0</td>\n",
       "      <td>-22.0</td>\n",
       "      <td>59</td>\n",
       "      <td>None</td>\n",
       "    </tr>\n",
       "    <tr>\n",
       "      <th>...</th>\n",
       "      <td>...</td>\n",
       "      <td>...</td>\n",
       "      <td>...</td>\n",
       "      <td>...</td>\n",
       "      <td>...</td>\n",
       "      <td>...</td>\n",
       "      <td>...</td>\n",
       "      <td>...</td>\n",
       "      <td>...</td>\n",
       "      <td>...</td>\n",
       "      <td>...</td>\n",
       "      <td>...</td>\n",
       "      <td>...</td>\n",
       "      <td>...</td>\n",
       "      <td>...</td>\n",
       "      <td>...</td>\n",
       "    </tr>\n",
       "    <tr>\n",
       "      <th>361560</th>\n",
       "      <td>vtyx</td>\n",
       "      <td>1.71</td>\n",
       "      <td>278353</td>\n",
       "      <td>271512.0</td>\n",
       "      <td>1.627724</td>\n",
       "      <td>880681.0</td>\n",
       "      <td>NaN</td>\n",
       "      <td>2025-02-14</td>\n",
       "      <td>119241978.0</td>\n",
       "      <td>54449435</td>\n",
       "      <td>VENTYX BIOSCIENCES INC</td>\n",
       "      <td>96</td>\n",
       "      <td>2283.0</td>\n",
       "      <td>22.0</td>\n",
       "      <td>124</td>\n",
       "      <td>VTYX</td>\n",
       "    </tr>\n",
       "    <tr>\n",
       "      <th>361561</th>\n",
       "      <td>vtyx</td>\n",
       "      <td>1.72</td>\n",
       "      <td>278353</td>\n",
       "      <td>313520.0</td>\n",
       "      <td>1.627724</td>\n",
       "      <td>1599863.0</td>\n",
       "      <td>NaN</td>\n",
       "      <td>2025-02-18</td>\n",
       "      <td>119241978.0</td>\n",
       "      <td>54449435</td>\n",
       "      <td>VENTYX BIOSCIENCES INC</td>\n",
       "      <td>96</td>\n",
       "      <td>2283.0</td>\n",
       "      <td>22.0</td>\n",
       "      <td>124</td>\n",
       "      <td>VTYX</td>\n",
       "    </tr>\n",
       "    <tr>\n",
       "      <th>361562</th>\n",
       "      <td>vtyx</td>\n",
       "      <td>1.69</td>\n",
       "      <td>278353</td>\n",
       "      <td>289777.0</td>\n",
       "      <td>1.627724</td>\n",
       "      <td>1164762.0</td>\n",
       "      <td>NaN</td>\n",
       "      <td>2025-02-19</td>\n",
       "      <td>119241978.0</td>\n",
       "      <td>54449435</td>\n",
       "      <td>VENTYX BIOSCIENCES INC</td>\n",
       "      <td>96</td>\n",
       "      <td>2283.0</td>\n",
       "      <td>22.0</td>\n",
       "      <td>124</td>\n",
       "      <td>VTYX</td>\n",
       "    </tr>\n",
       "    <tr>\n",
       "      <th>361563</th>\n",
       "      <td>vtyx</td>\n",
       "      <td>1.66</td>\n",
       "      <td>278353</td>\n",
       "      <td>199459.0</td>\n",
       "      <td>1.627724</td>\n",
       "      <td>680525.0</td>\n",
       "      <td>NaN</td>\n",
       "      <td>2025-02-20</td>\n",
       "      <td>119241978.0</td>\n",
       "      <td>54449435</td>\n",
       "      <td>VENTYX BIOSCIENCES INC</td>\n",
       "      <td>96</td>\n",
       "      <td>2283.0</td>\n",
       "      <td>22.0</td>\n",
       "      <td>124</td>\n",
       "      <td>VTYX</td>\n",
       "    </tr>\n",
       "    <tr>\n",
       "      <th>361564</th>\n",
       "      <td>vtyx</td>\n",
       "      <td>1.61</td>\n",
       "      <td>278353</td>\n",
       "      <td>176266.0</td>\n",
       "      <td>1.627724</td>\n",
       "      <td>649492.0</td>\n",
       "      <td>NaN</td>\n",
       "      <td>2025-02-21</td>\n",
       "      <td>119241978.0</td>\n",
       "      <td>54449435</td>\n",
       "      <td>VENTYX BIOSCIENCES INC</td>\n",
       "      <td>96</td>\n",
       "      <td>2283.0</td>\n",
       "      <td>22.0</td>\n",
       "      <td>124</td>\n",
       "      <td>VTYX</td>\n",
       "    </tr>\n",
       "  </tbody>\n",
       "</table>\n",
       "<p>361565 rows × 16 columns</p>\n",
       "</div>"
      ],
      "text/plain": [
       "       stock_permalink  closing_price  stock_id  avg_short_volume  \\\n",
       "0                 aavl          10.00    173039          111110.0   \n",
       "1                 aavl          10.30    173039           34338.0   \n",
       "2                 aavl          10.10    173039           40076.0   \n",
       "3                 aavl          10.20    173039           61479.0   \n",
       "4                 aavl           9.75    173039           38977.0   \n",
       "...                ...            ...       ...               ...   \n",
       "361560            vtyx           1.71    278353          271512.0   \n",
       "361561            vtyx           1.72    278353          313520.0   \n",
       "361562            vtyx           1.69    278353          289777.0   \n",
       "361563            vtyx           1.66    278353          199459.0   \n",
       "361564            vtyx           1.61    278353          176266.0   \n",
       "\n",
       "        put_call_ratio  total_volume  sell_buy_ratio       date  \\\n",
       "0             0.009147       55649.0             NaN 2022-10-03   \n",
       "1             0.009147       19911.0             NaN 2022-10-04   \n",
       "2             0.009147       17821.0             NaN 2022-10-05   \n",
       "3             0.009147       22047.0             NaN 2022-10-06   \n",
       "4             0.009147       18316.0             NaN 2022-10-07   \n",
       "...                ...           ...             ...        ...   \n",
       "361560        1.627724      880681.0             NaN 2025-02-14   \n",
       "361561        1.627724     1599863.0             NaN 2025-02-18   \n",
       "361562        1.627724     1164762.0             NaN 2025-02-19   \n",
       "361563        1.627724      680525.0             NaN 2025-02-20   \n",
       "361564        1.627724      649492.0             NaN 2025-02-21   \n",
       "\n",
       "        market_cap_13f  total_shares                           name  \\\n",
       "0           33238852.0       5730320  AVALANCHE BIOTECHNOLOGIES INC   \n",
       "1           33238852.0       5730320  AVALANCHE BIOTECHNOLOGIES INC   \n",
       "2           33238852.0       5730320  AVALANCHE BIOTECHNOLOGIES INC   \n",
       "3           33238852.0       5730320  AVALANCHE BIOTECHNOLOGIES INC   \n",
       "4           33238852.0       5730320  AVALANCHE BIOTECHNOLOGIES INC   \n",
       "...                ...           ...                            ...   \n",
       "361560     119241978.0      54449435         VENTYX BIOSCIENCES INC   \n",
       "361561     119241978.0      54449435         VENTYX BIOSCIENCES INC   \n",
       "361562     119241978.0      54449435         VENTYX BIOSCIENCES INC   \n",
       "361563     119241978.0      54449435         VENTYX BIOSCIENCES INC   \n",
       "361564     119241978.0      54449435         VENTYX BIOSCIENCES INC   \n",
       "\n",
       "        quarter_id  average_ranking  net_buys  held_by yf_ticker  \n",
       "0               88           2942.0     -22.0       59      None  \n",
       "1               88           2942.0     -22.0       59      None  \n",
       "2               88           2942.0     -22.0       59      None  \n",
       "3               88           2942.0     -22.0       59      None  \n",
       "4               88           2942.0     -22.0       59      None  \n",
       "...            ...              ...       ...      ...       ...  \n",
       "361560          96           2283.0      22.0      124      VTYX  \n",
       "361561          96           2283.0      22.0      124      VTYX  \n",
       "361562          96           2283.0      22.0      124      VTYX  \n",
       "361563          96           2283.0      22.0      124      VTYX  \n",
       "361564          96           2283.0      22.0      124      VTYX  \n",
       "\n",
       "[361565 rows x 16 columns]"
      ]
     },
     "execution_count": 471,
     "metadata": {},
     "output_type": "execute_result"
    }
   ],
   "source": [
    "import pandas as pd\n",
    "\n",
    "df_prices = pd.read_parquet('merged_prices.parquet')\n",
    "df_prices"
   ]
  },
  {
   "cell_type": "code",
   "execution_count": 472,
   "metadata": {},
   "outputs": [
    {
     "data": {
      "text/html": [
       "<div>\n",
       "<style scoped>\n",
       "    .dataframe tbody tr th:only-of-type {\n",
       "        vertical-align: middle;\n",
       "    }\n",
       "\n",
       "    .dataframe tbody tr th {\n",
       "        vertical-align: top;\n",
       "    }\n",
       "\n",
       "    .dataframe thead th {\n",
       "        text-align: right;\n",
       "    }\n",
       "</style>\n",
       "<table border=\"1\" class=\"dataframe\">\n",
       "  <thead>\n",
       "    <tr style=\"text-align: right;\">\n",
       "      <th></th>\n",
       "      <th>fund_url</th>\n",
       "      <th>quarter_id</th>\n",
       "      <th>security_type</th>\n",
       "      <th>stock_id</th>\n",
       "      <th>current_mv</th>\n",
       "      <th>sector</th>\n",
       "      <th>permalink</th>\n",
       "      <th>name</th>\n",
       "      <th>current_shares</th>\n",
       "      <th>symbol</th>\n",
       "    </tr>\n",
       "  </thead>\n",
       "  <tbody>\n",
       "    <tr>\n",
       "      <th>0</th>\n",
       "      <td>krensavage-asset-management-llc</td>\n",
       "      <td>96</td>\n",
       "      <td>SH</td>\n",
       "      <td>3372</td>\n",
       "      <td>32481000</td>\n",
       "      <td>HEALTH CARE</td>\n",
       "      <td>uthr</td>\n",
       "      <td>United Therapeutics Corp</td>\n",
       "      <td>92057.00</td>\n",
       "      <td>UTHR</td>\n",
       "    </tr>\n",
       "    <tr>\n",
       "      <th>1</th>\n",
       "      <td>krensavage-asset-management-llc</td>\n",
       "      <td>96</td>\n",
       "      <td>SH</td>\n",
       "      <td>5525</td>\n",
       "      <td>32163000</td>\n",
       "      <td>HEALTH CARE</td>\n",
       "      <td>exel</td>\n",
       "      <td>Exelixis Inc</td>\n",
       "      <td>965866.00</td>\n",
       "      <td>EXEL</td>\n",
       "    </tr>\n",
       "    <tr>\n",
       "      <th>2</th>\n",
       "      <td>krensavage-asset-management-llc</td>\n",
       "      <td>96</td>\n",
       "      <td>SH</td>\n",
       "      <td>292</td>\n",
       "      <td>24700000</td>\n",
       "      <td>HEALTH CARE</td>\n",
       "      <td>cah</td>\n",
       "      <td>Cardinal Health, Inc</td>\n",
       "      <td>208845.00</td>\n",
       "      <td>CAH</td>\n",
       "    </tr>\n",
       "    <tr>\n",
       "      <th>3</th>\n",
       "      <td>krensavage-asset-management-llc</td>\n",
       "      <td>96</td>\n",
       "      <td>SH</td>\n",
       "      <td>4853</td>\n",
       "      <td>16657000</td>\n",
       "      <td>HEALTH CARE</td>\n",
       "      <td>biib</td>\n",
       "      <td>Biogen Inc</td>\n",
       "      <td>108923.00</td>\n",
       "      <td>BIIB</td>\n",
       "    </tr>\n",
       "    <tr>\n",
       "      <th>4</th>\n",
       "      <td>krensavage-asset-management-llc</td>\n",
       "      <td>96</td>\n",
       "      <td>SH</td>\n",
       "      <td>3621</td>\n",
       "      <td>13030000</td>\n",
       "      <td>HEALTH CARE</td>\n",
       "      <td>jazz</td>\n",
       "      <td>Jazz Pharmaceuticals plc</td>\n",
       "      <td>105803.00</td>\n",
       "      <td>JAZZ</td>\n",
       "    </tr>\n",
       "    <tr>\n",
       "      <th>...</th>\n",
       "      <td>...</td>\n",
       "      <td>...</td>\n",
       "      <td>...</td>\n",
       "      <td>...</td>\n",
       "      <td>...</td>\n",
       "      <td>...</td>\n",
       "      <td>...</td>\n",
       "      <td>...</td>\n",
       "      <td>...</td>\n",
       "      <td>...</td>\n",
       "    </tr>\n",
       "    <tr>\n",
       "      <th>21111</th>\n",
       "      <td>orbimed-advisors-llc</td>\n",
       "      <td>88</td>\n",
       "      <td>SH</td>\n",
       "      <td>242499</td>\n",
       "      <td>4704578</td>\n",
       "      <td>HEALTH CARE</td>\n",
       "      <td>glto</td>\n",
       "      <td>Galecto, Inc</td>\n",
       "      <td>163637.48</td>\n",
       "      <td>GLTO</td>\n",
       "    </tr>\n",
       "    <tr>\n",
       "      <th>21112</th>\n",
       "      <td>orbimed-advisors-llc</td>\n",
       "      <td>88</td>\n",
       "      <td>SH</td>\n",
       "      <td>191494</td>\n",
       "      <td>4582796</td>\n",
       "      <td>HEALTH CARE</td>\n",
       "      <td>mirn</td>\n",
       "      <td>Synlogic Inc</td>\n",
       "      <td>402200.67</td>\n",
       "      <td>SYBX</td>\n",
       "    </tr>\n",
       "    <tr>\n",
       "      <th>21113</th>\n",
       "      <td>orbimed-advisors-llc</td>\n",
       "      <td>88</td>\n",
       "      <td>SH</td>\n",
       "      <td>211580</td>\n",
       "      <td>3822528</td>\n",
       "      <td>HEALTH CARE</td>\n",
       "      <td>nxtc</td>\n",
       "      <td>NextCure Inc</td>\n",
       "      <td>2711013.00</td>\n",
       "      <td>NXTC</td>\n",
       "    </tr>\n",
       "    <tr>\n",
       "      <th>21114</th>\n",
       "      <td>orbimed-advisors-llc</td>\n",
       "      <td>88</td>\n",
       "      <td>SH</td>\n",
       "      <td>206478</td>\n",
       "      <td>3151145</td>\n",
       "      <td>HEALTH CARE</td>\n",
       "      <td>amrx</td>\n",
       "      <td>Amneal Pharmaceuticals Inc</td>\n",
       "      <td>1583490.00</td>\n",
       "      <td>AMRX</td>\n",
       "    </tr>\n",
       "    <tr>\n",
       "      <th>21115</th>\n",
       "      <td>orbimed-advisors-llc</td>\n",
       "      <td>88</td>\n",
       "      <td>SH</td>\n",
       "      <td>241726</td>\n",
       "      <td>3045644</td>\n",
       "      <td>HEALTH CARE</td>\n",
       "      <td>afib</td>\n",
       "      <td>Acutus Medical Inc</td>\n",
       "      <td>2648386.00</td>\n",
       "      <td>AFIB</td>\n",
       "    </tr>\n",
       "  </tbody>\n",
       "</table>\n",
       "<p>21116 rows × 10 columns</p>\n",
       "</div>"
      ],
      "text/plain": [
       "                              fund_url  quarter_id security_type  stock_id  \\\n",
       "0      krensavage-asset-management-llc          96            SH      3372   \n",
       "1      krensavage-asset-management-llc          96            SH      5525   \n",
       "2      krensavage-asset-management-llc          96            SH       292   \n",
       "3      krensavage-asset-management-llc          96            SH      4853   \n",
       "4      krensavage-asset-management-llc          96            SH      3621   \n",
       "...                                ...         ...           ...       ...   \n",
       "21111             orbimed-advisors-llc          88            SH    242499   \n",
       "21112             orbimed-advisors-llc          88            SH    191494   \n",
       "21113             orbimed-advisors-llc          88            SH    211580   \n",
       "21114             orbimed-advisors-llc          88            SH    206478   \n",
       "21115             orbimed-advisors-llc          88            SH    241726   \n",
       "\n",
       "       current_mv       sector permalink                        name  \\\n",
       "0        32481000  HEALTH CARE      uthr    United Therapeutics Corp   \n",
       "1        32163000  HEALTH CARE      exel                Exelixis Inc   \n",
       "2        24700000  HEALTH CARE       cah        Cardinal Health, Inc   \n",
       "3        16657000  HEALTH CARE      biib                  Biogen Inc   \n",
       "4        13030000  HEALTH CARE      jazz    Jazz Pharmaceuticals plc   \n",
       "...           ...          ...       ...                         ...   \n",
       "21111     4704578  HEALTH CARE      glto                Galecto, Inc   \n",
       "21112     4582796  HEALTH CARE      mirn                Synlogic Inc   \n",
       "21113     3822528  HEALTH CARE      nxtc                NextCure Inc   \n",
       "21114     3151145  HEALTH CARE      amrx  Amneal Pharmaceuticals Inc   \n",
       "21115     3045644  HEALTH CARE      afib          Acutus Medical Inc   \n",
       "\n",
       "       current_shares symbol  \n",
       "0            92057.00   UTHR  \n",
       "1           965866.00   EXEL  \n",
       "2           208845.00    CAH  \n",
       "3           108923.00   BIIB  \n",
       "4           105803.00   JAZZ  \n",
       "...               ...    ...  \n",
       "21111       163637.48   GLTO  \n",
       "21112       402200.67   SYBX  \n",
       "21113      2711013.00   NXTC  \n",
       "21114      1583490.00   AMRX  \n",
       "21115      2648386.00   AFIB  \n",
       "\n",
       "[21116 rows x 10 columns]"
      ]
     },
     "execution_count": 472,
     "metadata": {},
     "output_type": "execute_result"
    }
   ],
   "source": [
    "df_portfolios = pd.read_parquet('portfolios.parquet')\n",
    "df_portfolios"
   ]
  },
  {
   "cell_type": "code",
   "execution_count": 473,
   "metadata": {},
   "outputs": [
    {
     "data": {
      "text/plain": [
       "0        4\n",
       "4        5\n",
       "7        2\n",
       "60       1\n",
       "64       1\n",
       "627     27\n",
       "628    997\n",
       "Name: count, dtype: int64"
      ]
     },
     "execution_count": 473,
     "metadata": {},
     "output_type": "execute_result"
    }
   ],
   "source": [
    "# чистим вспомогательный датасет на случай, если он пригодится\n",
    "df_stock_info = pd.read_parquet('info.parquet')\n",
    "# много пропусков из-за парсинга лишних элементов, специфичных разным акциям (например, в таблицу попали \"Biohaven Ltd YCharts\" и \"2023-12-08\")\n",
    "df_stock_info.isna().sum().sort_values().value_counts().sort_index()"
   ]
  },
  {
   "cell_type": "code",
   "execution_count": 474,
   "metadata": {},
   "outputs": [
    {
     "data": {
      "text/html": [
       "<div>\n",
       "<style scoped>\n",
       "    .dataframe tbody tr th:only-of-type {\n",
       "        vertical-align: middle;\n",
       "    }\n",
       "\n",
       "    .dataframe tbody tr th {\n",
       "        vertical-align: top;\n",
       "    }\n",
       "\n",
       "    .dataframe thead th {\n",
       "        text-align: right;\n",
       "    }\n",
       "</style>\n",
       "<table border=\"1\" class=\"dataframe\">\n",
       "  <thead>\n",
       "    <tr style=\"text-align: right;\">\n",
       "      <th></th>\n",
       "      <th>permalink</th>\n",
       "      <th>company_name</th>\n",
       "      <th>stock_ticker</th>\n",
       "      <th>yahoo_finance_link</th>\n",
       "      <th>description</th>\n",
       "      <th>Sector</th>\n",
       "      <th>Industry</th>\n",
       "      <th>CEO</th>\n",
       "      <th>Employees</th>\n",
       "      <th>Web site</th>\n",
       "    </tr>\n",
       "  </thead>\n",
       "  <tbody>\n",
       "    <tr>\n",
       "      <th>0</th>\n",
       "      <td>cah</td>\n",
       "      <td>Cardinal Health, Inc(CAH)</td>\n",
       "      <td>CAH</td>\n",
       "      <td>https://finance.yahoo.com/q?s=CAH</td>\n",
       "      <td>Cardinal Health, Inc. operates in two segments...</td>\n",
       "      <td>HEALTH CARE</td>\n",
       "      <td>HEALTH CARE SERVICES</td>\n",
       "      <td>Jason M. Hollar</td>\n",
       "      <td>46,500</td>\n",
       "      <td>cardinalhealth.com</td>\n",
       "    </tr>\n",
       "    <tr>\n",
       "      <th>1</th>\n",
       "      <td>allr-3</td>\n",
       "      <td>Allarity Therapeutics Inc(ALLR)</td>\n",
       "      <td>ALLR</td>\n",
       "      <td>https://finance.yahoo.com/q?s=ALLR</td>\n",
       "      <td>N/A</td>\n",
       "      <td>HEALTH CARE</td>\n",
       "      <td>PHARMACEUTICALS</td>\n",
       "      <td>James G. Cullem</td>\n",
       "      <td>10</td>\n",
       "      <td>allarity.com</td>\n",
       "    </tr>\n",
       "    <tr>\n",
       "      <th>2</th>\n",
       "      <td>itrm</td>\n",
       "      <td>Iterum Therapeutics Plc(ITRM)</td>\n",
       "      <td>ITRM</td>\n",
       "      <td>https://finance.yahoo.com/q?s=ITRM</td>\n",
       "      <td>Iterum Therapeutics plc is developing sulopene...</td>\n",
       "      <td>HEALTH CARE</td>\n",
       "      <td>PHARMACEUTICALS</td>\n",
       "      <td>Corey N. Fishman</td>\n",
       "      <td>10</td>\n",
       "      <td>iterumtx.com</td>\n",
       "    </tr>\n",
       "    <tr>\n",
       "      <th>3</th>\n",
       "      <td>eras</td>\n",
       "      <td>Erasca Inc(ERAS)</td>\n",
       "      <td>ERAS</td>\n",
       "      <td>https://finance.yahoo.com/q?s=ERAS</td>\n",
       "      <td>Erasca, Inc., a clinical-stage biopharmaceutic...</td>\n",
       "      <td>HEALTH CARE</td>\n",
       "      <td>PHARMACEUTICALS</td>\n",
       "      <td>Jonathan E. Lim</td>\n",
       "      <td>120</td>\n",
       "      <td>erasca.com</td>\n",
       "    </tr>\n",
       "    <tr>\n",
       "      <th>4</th>\n",
       "      <td>inxb</td>\n",
       "      <td>Inhibrx Biosciences Inc(INBX)</td>\n",
       "      <td>INBX</td>\n",
       "      <td>https://finance.yahoo.com/q?s=INBX</td>\n",
       "      <td>Inhibrx Biosciences, Inc., a clinical-stage bi...</td>\n",
       "      <td>HEALTH CARE</td>\n",
       "      <td>PHARMACEUTICALS</td>\n",
       "      <td>Mark Paul Lappe</td>\n",
       "      <td></td>\n",
       "      <td>inhibrx.com</td>\n",
       "    </tr>\n",
       "    <tr>\n",
       "      <th>...</th>\n",
       "      <td>...</td>\n",
       "      <td>...</td>\n",
       "      <td>...</td>\n",
       "      <td>...</td>\n",
       "      <td>...</td>\n",
       "      <td>...</td>\n",
       "      <td>...</td>\n",
       "      <td>...</td>\n",
       "      <td>...</td>\n",
       "      <td>...</td>\n",
       "    </tr>\n",
       "    <tr>\n",
       "      <th>624</th>\n",
       "      <td>afmd</td>\n",
       "      <td>Affimed N.V(AFMD)</td>\n",
       "      <td>AFMD</td>\n",
       "      <td>https://finance.yahoo.com/q?s=AFMD</td>\n",
       "      <td>Affimed N.V. focuses on discovering and develo...</td>\n",
       "      <td>HEALTH CARE</td>\n",
       "      <td>BIOTECHNOLOGY &amp; LIFE SCIENCES</td>\n",
       "      <td>Adolf Hoess</td>\n",
       "      <td>200</td>\n",
       "      <td>affimed.com</td>\n",
       "    </tr>\n",
       "    <tr>\n",
       "      <th>625</th>\n",
       "      <td>dcth</td>\n",
       "      <td>Delcath Systems Inc(DCTH)</td>\n",
       "      <td>DCTH</td>\n",
       "      <td>https://finance.yahoo.com/q?s=DCTH</td>\n",
       "      <td>Delcath Systems, Inc. focuses on the treatment...</td>\n",
       "      <td>HEALTH CARE</td>\n",
       "      <td>PHARMACEUTICALS</td>\n",
       "      <td>Gerard J. Michel</td>\n",
       "      <td>60</td>\n",
       "      <td>delcath.com</td>\n",
       "    </tr>\n",
       "    <tr>\n",
       "      <th>626</th>\n",
       "      <td>bhvn-2</td>\n",
       "      <td>Biohaven Ltd(BHVN)</td>\n",
       "      <td>BHVN</td>\n",
       "      <td>https://finance.yahoo.com/q?s=BHVN</td>\n",
       "      <td>Biohaven Ltd. is a clinical-stage biopharmaceu...</td>\n",
       "      <td>HEALTH CARE</td>\n",
       "      <td>BIOTECHNOLOGY &amp; LIFE SCIENCES</td>\n",
       "      <td>Vladimir Coric</td>\n",
       "      <td></td>\n",
       "      <td>biohavenpharma.com</td>\n",
       "    </tr>\n",
       "    <tr>\n",
       "      <th>627</th>\n",
       "      <td>til</td>\n",
       "      <td>Instil Bio Inc(TIL)</td>\n",
       "      <td>TIL</td>\n",
       "      <td>https://finance.yahoo.com/q?s=TIL</td>\n",
       "      <td>Instil Bio, Inc., a clinical-stage biopharmace...</td>\n",
       "      <td>HEALTH CARE</td>\n",
       "      <td>BIOTECHNOLOGY &amp; LIFE SCIENCES</td>\n",
       "      <td>Bronson Crouch</td>\n",
       "      <td>410</td>\n",
       "      <td>instilbio.com</td>\n",
       "    </tr>\n",
       "    <tr>\n",
       "      <th>628</th>\n",
       "      <td>cort</td>\n",
       "      <td>Corcept Therapeutics Inc(CORT)</td>\n",
       "      <td>CORT</td>\n",
       "      <td>https://finance.yahoo.com/q?s=CORT</td>\n",
       "      <td>Corcept Therapeutics Incorporated discovers, d...</td>\n",
       "      <td>HEALTH CARE</td>\n",
       "      <td>BIOTECHNOLOGY &amp; LIFE SCIENCES</td>\n",
       "      <td>Joseph K. Belanoff</td>\n",
       "      <td>300</td>\n",
       "      <td>corcept.com</td>\n",
       "    </tr>\n",
       "  </tbody>\n",
       "</table>\n",
       "<p>629 rows × 10 columns</p>\n",
       "</div>"
      ],
      "text/plain": [
       "    permalink                     company_name stock_ticker  \\\n",
       "0         cah        Cardinal Health, Inc(CAH)          CAH   \n",
       "1      allr-3  Allarity Therapeutics Inc(ALLR)         ALLR   \n",
       "2        itrm    Iterum Therapeutics Plc(ITRM)         ITRM   \n",
       "3        eras                 Erasca Inc(ERAS)         ERAS   \n",
       "4        inxb    Inhibrx Biosciences Inc(INBX)         INBX   \n",
       "..        ...                              ...          ...   \n",
       "624      afmd                Affimed N.V(AFMD)         AFMD   \n",
       "625      dcth        Delcath Systems Inc(DCTH)         DCTH   \n",
       "626    bhvn-2               Biohaven Ltd(BHVN)         BHVN   \n",
       "627       til              Instil Bio Inc(TIL)          TIL   \n",
       "628      cort   Corcept Therapeutics Inc(CORT)         CORT   \n",
       "\n",
       "                     yahoo_finance_link  \\\n",
       "0     https://finance.yahoo.com/q?s=CAH   \n",
       "1    https://finance.yahoo.com/q?s=ALLR   \n",
       "2    https://finance.yahoo.com/q?s=ITRM   \n",
       "3    https://finance.yahoo.com/q?s=ERAS   \n",
       "4    https://finance.yahoo.com/q?s=INBX   \n",
       "..                                  ...   \n",
       "624  https://finance.yahoo.com/q?s=AFMD   \n",
       "625  https://finance.yahoo.com/q?s=DCTH   \n",
       "626  https://finance.yahoo.com/q?s=BHVN   \n",
       "627   https://finance.yahoo.com/q?s=TIL   \n",
       "628  https://finance.yahoo.com/q?s=CORT   \n",
       "\n",
       "                                           description       Sector  \\\n",
       "0    Cardinal Health, Inc. operates in two segments...  HEALTH CARE   \n",
       "1                                                  N/A  HEALTH CARE   \n",
       "2    Iterum Therapeutics plc is developing sulopene...  HEALTH CARE   \n",
       "3    Erasca, Inc., a clinical-stage biopharmaceutic...  HEALTH CARE   \n",
       "4    Inhibrx Biosciences, Inc., a clinical-stage bi...  HEALTH CARE   \n",
       "..                                                 ...          ...   \n",
       "624  Affimed N.V. focuses on discovering and develo...  HEALTH CARE   \n",
       "625  Delcath Systems, Inc. focuses on the treatment...  HEALTH CARE   \n",
       "626  Biohaven Ltd. is a clinical-stage biopharmaceu...  HEALTH CARE   \n",
       "627  Instil Bio, Inc., a clinical-stage biopharmace...  HEALTH CARE   \n",
       "628  Corcept Therapeutics Incorporated discovers, d...  HEALTH CARE   \n",
       "\n",
       "                          Industry                 CEO Employees  \\\n",
       "0             HEALTH CARE SERVICES     Jason M. Hollar    46,500   \n",
       "1                  PHARMACEUTICALS     James G. Cullem        10   \n",
       "2                  PHARMACEUTICALS    Corey N. Fishman        10   \n",
       "3                  PHARMACEUTICALS     Jonathan E. Lim       120   \n",
       "4                  PHARMACEUTICALS     Mark Paul Lappe             \n",
       "..                             ...                 ...       ...   \n",
       "624  BIOTECHNOLOGY & LIFE SCIENCES         Adolf Hoess       200   \n",
       "625                PHARMACEUTICALS    Gerard J. Michel        60   \n",
       "626  BIOTECHNOLOGY & LIFE SCIENCES      Vladimir Coric             \n",
       "627  BIOTECHNOLOGY & LIFE SCIENCES      Bronson Crouch       410   \n",
       "628  BIOTECHNOLOGY & LIFE SCIENCES  Joseph K. Belanoff       300   \n",
       "\n",
       "               Web site  \n",
       "0    cardinalhealth.com  \n",
       "1          allarity.com  \n",
       "2          iterumtx.com  \n",
       "3            erasca.com  \n",
       "4           inhibrx.com  \n",
       "..                  ...  \n",
       "624         affimed.com  \n",
       "625         delcath.com  \n",
       "626  biohavenpharma.com  \n",
       "627       instilbio.com  \n",
       "628         corcept.com  \n",
       "\n",
       "[629 rows x 10 columns]"
      ]
     },
     "execution_count": 474,
     "metadata": {},
     "output_type": "execute_result"
    }
   ],
   "source": [
    "# видим, что очень много столбцов с 600+ пропусками, удалим их и столбец \"Yahoo! Finance\", все значения которого \"finviz\"\n",
    "df_stock_info.dropna(axis=1, thresh=600, inplace=True)\n",
    "df_stock_info.drop(columns='Yahoo! Finance', inplace=True)\n",
    "df_stock_info"
   ]
  },
  {
   "cell_type": "code",
   "execution_count": 475,
   "metadata": {},
   "outputs": [
    {
     "name": "stdout",
     "output_type": "stream",
     "text": [
      "employees:\n",
      " count       596.000000\n",
      "mean       7325.857383\n",
      "std       30411.475277\n",
      "min           1.000000\n",
      "25%          50.000000\n",
      "50%         160.000000\n",
      "75%         700.000000\n",
      "max      400000.000000\n",
      "Name: Employees, dtype: float64\n",
      "held_by:\n",
      " count     621.000000\n",
      "mean      257.268921\n",
      "std       486.745134\n",
      "min         0.000000\n",
      "25%        48.000000\n",
      "50%       119.000000\n",
      "75%       226.000000\n",
      "max      3917.000000\n",
      "Name: held_by, dtype: float64\n"
     ]
    },
    {
     "data": {
      "application/vnd.plotly.v1+json": {
       "config": {
        "plotlyServerURL": "https://plot.ly"
       },
       "data": [
        {
         "mode": "markers",
         "name": "данные",
         "text": [
          "aavl",
          "abbv",
          "abcl",
          "abos",
          "absi",
          "abt",
          "acad",
          "acet",
          "achc",
          "achl",
          "aciu",
          "aclx",
          "acrs",
          "adap",
          "adct",
          "adgi",
          "adma",
          "aen",
          "afmd",
          "agen",
          "agio",
          "ahs",
          "aimdw",
          "akro",
          "alc",
          "aldx",
          "alec",
          "algn",
          "algs",
          "alim",
          "alks",
          "allk",
          "allo",
          "allr-3",
          "alny",
          "alvr",
          "alxo",
          "amgn",
          "amlx",
          "amrn",
          "anab",
          "ancn",
          "angn",
          "ango",
          "anik",
          "annx",
          "antm",
          "antx",
          "apcxd",
          "apls",
          "aplt",
          "apop",
          "appa",
          "apvo",
          "aqst",
          "aqxp-2",
          "aray",
          "arct",
          "ardx",
          "arfxf",
          "argx",
          "arpo",
          "arqt",
          "arvn",
          "arwr",
          "asln",
          "asnd",
          "asns",
          "astm",
          "atec",
          "atha",
          "atra",
          "atrc",
          "atxi",
          "autl",
          "avgr",
          "avii",
          "avir",
          "avro",
          "avte",
          "avtr",
          "awh",
          "axdx",
          "axnx",
          "axsm",
          "azn",
          "azrx",
          "azyo",
          "bax",
          "bbio",
          "bcab",
          "bcli",
          "bcrx",
          "bctg",
          "bctxw",
          "bcyc",
          "bdsx",
          "bdtx",
          "bdx",
          "beam",
          "bgne",
          "bhvn",
          "biafw",
          "biib",
          "bio",
          "bios",
          "bkd",
          "bkdt",
          "blfs",
          "blte",
          "blue",
          "bmea",
          "bmrn",
          "bmy",
          "bngo",
          "bntx",
          "bolt",
          "bpax",
          "bpmc",
          "bpth",
          "brkr",
          "bsx",
          "btai",
          "bteby",
          "bway",
          "caba",
          "cadl",
          "cah",
          "calt",
          "canf",
          "capn",
          "catb",
          "cbyl",
          "cccc",
          "cdtx",
          "celc",
          "cerc",
          "cers",
          "cgem",
          "cgen",
          "chfw",
          "chrs",
          "cing",
          "cingw",
          "ckpt",
          "cldx",
          "clsd",
          "clxpf",
          "clxt",
          "cmpe",
          "cmps",
          "cmpx",
          "cmrx",
          "cnc",
          "cnta",
          "cort",
          "cprx",
          "crbp",
          "crbu",
          "cris",
          "crl",
          "crnx",
          "crsp",
          "crvs",
          "cstl",
          "ctlt",
          "ctmx",
          "ctxr",
          "cur",
          "cutr",
          "cvac",
          "cycc",
          "cyh",
          "cytk",
          "dawn",
          "dbvt",
          "dcth",
          "dhr",
          "dnli",
          "drma",
          "drmaw",
          "dsco",
          "dsgn",
          "dtil",
          "dvax",
          "dxcm",
          "dyn",
          "ears",
          "edge",
          "elan",
          "elev",
          "elym",
          "enlv",
          "enmd",
          "enta",
          "eols",
          "eras",
          "esta",
          "etnb",
          "eton",
          "evax",
          "evgn",
          "ew",
          "ewtx",
          "exai",
          "exas",
          "exel",
          "eyeg",
          "eyen",
          "fate",
          "fdmt",
          "fgen",
          "fhtx",
          "fixx",
          "fldm",
          "flks",
          "flml",
          "fna",
          "fold",
          "fora-2",
          "freq",
          "fsdc",
          "fulc",
          "gb",
          "gbio",
          "gdrx",
          "gemp",
          "gene",
          "gern",
          "gh",
          "ghrs",
          "gild",
          "gkos",
          "glpg",
          "glue",
          "glyc",
          "gmed",
          "gmxay",
          "gnlx",
          "gnpx",
          "goss",
          "govx",
          "gray",
          "grfs",
          "grph",
          "grts",
          "gsk",
          "hae",
          "halo",
          "hca",
          "hcwb",
          "hlf",
          "hls",
          "hlvx",
          "hlxa",
          "hook",
          "hoth",
          "howl",
          "hqy",
          "hrmy",
          "hsaq",
          "hsdt",
          "hsic",
          "hum",
          "ibio",
          "ibrx",
          "iclr",
          "icui",
          "idxx",
          "idya",
          "ifrx",
          "igms",
          "ikna",
          "ikt",
          "ilmn",
          "imcr",
          "imnm",
          "imtx",
          "incy",
          "ingn",
          "ino",
          "insm",
          "insp-3",
          "ints",
          "inzy",
          "iobt",
          "iphad",
          "ipoc",
          "ipsc",
          "iqv",
          "irwd",
          "isis",
          "isr",
          "isrg",
          "itci",
          "itek",
          "itos",
          "itrm",
          "iva",
          "janx",
          "jazz",
          "jnj",
          "jspr",
          "kala",
          "keyswi",
          "kmph",
          "knsa",
          "kod",
          "kpti",
          "kron",
          "kros",
          "krys",
          "ktov",
          "ktta",
          "kttaw",
          "kuro",
          "kymr",
          "kzr",
          "lbio",
          "lbph",
          "lctx",
          "lect",
          "legn",
          "lglrd",
          "life",
          "livn",
          "lly",
          "lnth",
          "lptx",
          "lqda",
          "lrusf",
          "lsac",
          "lung",
          "lvtx",
          "lxrx",
          "lyel",
          "lyra",
          "maac",
          "masi",
          "mbio",
          "mbrx",
          "mck",
          "mcrb",
          "mdt",
          "mdwd",
          "medp",
          "mgnx",
          "mgta",
          "mhan",
          "mirm",
          "mist",
          "mitc",
          "mkac",
          "mnkd",
          "mnlo",
          "mnpr",
          "moh",
          "moln",
          "morf",
          "mreo",
          "mrk",
          "mrna-4",
          "mrns",
          "mrrby",
          "mrsn",
          "mrus",
          "mrvi",
          "mstx",
          "mygn",
          "myl",
          "mynz",
          "myo",
          "nari",
          "nbix",
          "nktr",
          "nktx",
          "nlsp",
          "nlspw",
          "nltxd",
          "npce",
          "nrix",
          "nrsn",
          "nspr",
          "ntla",
          "ntra",
          "nuvl",
          "nvax",
          "nvcr",
          "nvo",
          "nvro",
          "nvs",
          "nxtc",
          "nyxh",
          "ocul",
          "ofix",
          "ogxi",
          "olma",
          "omer",
          "omic",
          "ontx",
          "onvo",
          "opt",
          "optn",
          "oric",
          "osur",
          "ovid",
          "pacb",
          "pahc",
          "pana",
          "pasg",
          "pbyi",
          "pcvx",
          "pdco",
          "pen",
          "pepg",
          "pfe",
          "pgny",
          "phat",
          "phvs",
          "pki",
          "plrx",
          "pmvp",
          "pnmd",
          "podd",
          "pphm",
          "prax",
          "prct",
          "prfx",
          "prgo",
          "prld",
          "prof",
          "prqr",
          "prto",
          "psdv",
          "pstx",
          "ptct",
          "ptgx",
          "ptie",
          "ptn",
          "pypd",
          "pyxs",
          "qdel",
          "qgen",
          "qure",
          "rani",
          "rapt",
          "rare",
          "rcktw",
          "rcus",
          "rdnt",
          "rdy",
          "regn",
          "repl",
          "rgen",
          "rgls",
          "rgnx",
          "rigl",
          "rlay",
          "rlyb",
          "rmd",
          "rmed",
          "rmti",
          "rna",
          "rprx",
          "rptx",
          "rvmd",
          "rvnc",
          "rxrx",
          "rxst",
          "rytm",
          "sabs",
          "sage",
          "sana",
          "sbtx-2",
          "scph",
          "selb",
          "sem",
          "sera",
          "sgmo",
          "sgnl",
          "sgry",
          "shph",
          "sibn",
          "siga",
          "silk",
          "skin",
          "sldb",
          "slgl",
          "sln",
          "smmt",
          "sndx",
          "sngx",
          "snn",
          "snss",
          "snta",
          "sny",
          "solv",
          "spro",
          "srng",
          "srrk",
          "staa",
          "stim",
          "stok",
          "stro",
          "sttk",
          "stvn",
          "stxs",
          "supn",
          "swtx",
          "syk",
          "syre",
          "syrs",
          "tarof",
          "tars",
          "tbph",
          "tcrx",
          "tdlp",
          "tdoc",
          "tech",
          "tela",
          "tern",
          "teva",
          "thc",
          "thld",
          "thrd",
          "thrx",
          "til",
          "tkai",
          "tkno",
          "tlis",
          "tmci",
          "tmo",
          "tndm",
          "tnya",
          "toca",
          "tpive",
          "trda",
          "trov",
          "trvi",
          "tsha",
          "tsvt",
          "ttoo",
          "txg",
          "tyra",
          "uhs",
          "umrx",
          "uncy",
          "unh",
          "urgn",
          "vcka",
          "vcnx",
          "vcyt",
          "vera",
          "verv",
          "vigl",
          "vir",
          "vktx",
          "vlon",
          "vnda",
          "vnrx",
          "vor",
          "vrca",
          "vrna",
          "vrtx",
          "vrx",
          "vstad",
          "vstm",
          "vtl-2",
          "vtus",
          "vtvt",
          "vtyx",
          "vygr",
          "wat",
          "wst",
          "wve",
          "xene",
          "xers",
          "xgn",
          "xncr",
          "xoma",
          "xray",
          "ymab",
          "zfgn",
          "zimv",
          "zlab",
          "zmh",
          "zntl",
          "zts",
          "zyme"
         ],
         "type": "scatter",
         "x": {
          "bdata": "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",
          "dtype": "i4"
         },
         "y": {
          "bdata": "RADkDZIATwCDAGsLJAE/AC4BFQAtANAAYQBOAFMATQA9AQkAJABUAN4AEAEIALwAewJ1AJMAtAIiAAEAUAFNAKsABQA8AjUAVgCmCncAnwCHABAAEQCGAG0AmAAEBiUAFAAAAXYADwCfAAwAcwBXAIMAkgDSABIAgwE1AM8AwwAOAQEA0wBZAA4B4AA4ACsA0wAHAGoADQDGAWgARgBPANwBGQAwAAMAHwGYBAkAIAAWAwYBQQAiAP0AiQAEAGEAOwBXABsG5QDfAAcABQBBA7cBUAGsAAoAswAWAE8AagAOAkkJNAAoASYAywBVARUAaAGsBTAAHQAmAG0ARgAfBAUADQClAG4AggBwACgAZwAhAJYAkgBGABgAeAAJAAQAQQCuACwANQBBAC8AgwBbAEUASQNyAGYBRwFjAIQAKABqAvIAhwFWAMIABwBGAB0ACQA0AEwAEgC5AFUBpAASAFoAqwjeAAYABQAPAF4ANwD/AI4DxgACADMAfwFHAE8AGAAWAGsAowCSAHcAmwBGAAoADwCfBMUAAwA5Av0BEAAmAJ0AkABFAFYAWgCMAAYAnAB/ABoBIABUAJcAdgBCAU8ApQAPAAEAGgElAR4ACgc8AVAAaAApAOcB4gA4ABYAaQASABwAmABdAAcAJwMxAe0BcwQRAMQAFQJMAHIAJgAOAEgAsQHzADQAEwARAlYDHgDFAD8CGwE3BMsAHQBTADUAHwA4A3EAdwBVAHMChABnAKwBYQEUAGkAGQDCALAASADFA9wAXAGEAPAHeAHgAIYAFwAHANQA8gFND1UAIQBdA2wAngBqAFYAOAChAAQBDgAHAAQAuQCxACsAJwEBAHsArADNAEkATQD+AJAO1wE5AKQAGgAWAHYAFgB+AGgANwA0AWcBHgAUADcGRQD2B0AAOAJ+AF8AQQHKAC4ADQAhAO8AIgASAGsCBQACAFoAcg3FAjUADgCDAMIAtACGANkA4AMHAEYA+wBFApAAcAACAAUAbAA+AK4ADQAeACMBQgLVAOIA7AA+BoAAEQUuABYAswCVAEYAnAB/ABQAEwAfAAsAJwCBALwAUgDhAKsAnQAuAG4APAEtAW4BPAAnCwYBkAA2AAACoABGACAAlQLCAKIAEgEGAF8BPQA0AEwAOgCQAG8A7ADvAIkAJwAOAGQADgE+AYkAKQBaADMBCgC4AEEB8QD1BJ0AqAFFALEAdwDHAC8ASQMIADMA5wCTATYAFAGoADIB0gDHABkAsACkAKMAVABEAAoBSQB/ALIAtgAGAI8AqQABAGUAWgARAEEAxwDWAAkA0AAfABYBugKFAzIApADeANIALACBAHkASgCAAFQAIgHXACwIggArABAAvgB/AFoAowBxAS8CLwCbADICNQIEAF8A5wAnAEsALwACAIQAxQk6AVUAGQAhAGYAdABsAH8AcgAaAA4BcABNAq0AHgCvDYoAYwACADcBsQCmADMAzwCPAQgAkQAcADMATwC9ANgF3wA2AFoAQgAjABEAfACCAN4C0QK0ANAAoQAoAMAAQQBhAW4AcwAJAYAA3AOOAAQHqwA=",
          "dtype": "i2"
         }
        },
        {
         "mode": "lines",
         "name": "линейная регрессия",
         "type": "scatter",
         "x": {
          "bdata": "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",
          "dtype": "i4"
         },
         "y": {
          "bdata": "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",
          "dtype": "f8"
         }
        }
       ],
       "layout": {
        "font": {
         "color": "white"
        },
        "paper_bgcolor": "#1e2130",
        "plot_bgcolor": "#1e2130",
        "template": {
         "data": {
          "bar": [
           {
            "error_x": {
             "color": "#2a3f5f"
            },
            "error_y": {
             "color": "#2a3f5f"
            },
            "marker": {
             "line": {
              "color": "#E5ECF6",
              "width": 0.5
             },
             "pattern": {
              "fillmode": "overlay",
              "size": 10,
              "solidity": 0.2
             }
            },
            "type": "bar"
           }
          ],
          "barpolar": [
           {
            "marker": {
             "line": {
              "color": "#E5ECF6",
              "width": 0.5
             },
             "pattern": {
              "fillmode": "overlay",
              "size": 10,
              "solidity": 0.2
             }
            },
            "type": "barpolar"
           }
          ],
          "carpet": [
           {
            "aaxis": {
             "endlinecolor": "#2a3f5f",
             "gridcolor": "white",
             "linecolor": "white",
             "minorgridcolor": "white",
             "startlinecolor": "#2a3f5f"
            },
            "baxis": {
             "endlinecolor": "#2a3f5f",
             "gridcolor": "white",
             "linecolor": "white",
             "minorgridcolor": "white",
             "startlinecolor": "#2a3f5f"
            },
            "type": "carpet"
           }
          ],
          "choropleth": [
           {
            "colorbar": {
             "outlinewidth": 0,
             "ticks": ""
            },
            "type": "choropleth"
           }
          ],
          "contour": [
           {
            "colorbar": {
             "outlinewidth": 0,
             "ticks": ""
            },
            "colorscale": [
             [
              0,
              "#0d0887"
             ],
             [
              0.1111111111111111,
              "#46039f"
             ],
             [
              0.2222222222222222,
              "#7201a8"
             ],
             [
              0.3333333333333333,
              "#9c179e"
             ],
             [
              0.4444444444444444,
              "#bd3786"
             ],
             [
              0.5555555555555556,
              "#d8576b"
             ],
             [
              0.6666666666666666,
              "#ed7953"
             ],
             [
              0.7777777777777778,
              "#fb9f3a"
             ],
             [
              0.8888888888888888,
              "#fdca26"
             ],
             [
              1,
              "#f0f921"
             ]
            ],
            "type": "contour"
           }
          ],
          "contourcarpet": [
           {
            "colorbar": {
             "outlinewidth": 0,
             "ticks": ""
            },
            "type": "contourcarpet"
           }
          ],
          "heatmap": [
           {
            "colorbar": {
             "outlinewidth": 0,
             "ticks": ""
            },
            "colorscale": [
             [
              0,
              "#0d0887"
             ],
             [
              0.1111111111111111,
              "#46039f"
             ],
             [
              0.2222222222222222,
              "#7201a8"
             ],
             [
              0.3333333333333333,
              "#9c179e"
             ],
             [
              0.4444444444444444,
              "#bd3786"
             ],
             [
              0.5555555555555556,
              "#d8576b"
             ],
             [
              0.6666666666666666,
              "#ed7953"
             ],
             [
              0.7777777777777778,
              "#fb9f3a"
             ],
             [
              0.8888888888888888,
              "#fdca26"
             ],
             [
              1,
              "#f0f921"
             ]
            ],
            "type": "heatmap"
           }
          ],
          "histogram": [
           {
            "marker": {
             "pattern": {
              "fillmode": "overlay",
              "size": 10,
              "solidity": 0.2
             }
            },
            "type": "histogram"
           }
          ],
          "histogram2d": [
           {
            "colorbar": {
             "outlinewidth": 0,
             "ticks": ""
            },
            "colorscale": [
             [
              0,
              "#0d0887"
             ],
             [
              0.1111111111111111,
              "#46039f"
             ],
             [
              0.2222222222222222,
              "#7201a8"
             ],
             [
              0.3333333333333333,
              "#9c179e"
             ],
             [
              0.4444444444444444,
              "#bd3786"
             ],
             [
              0.5555555555555556,
              "#d8576b"
             ],
             [
              0.6666666666666666,
              "#ed7953"
             ],
             [
              0.7777777777777778,
              "#fb9f3a"
             ],
             [
              0.8888888888888888,
              "#fdca26"
             ],
             [
              1,
              "#f0f921"
             ]
            ],
            "type": "histogram2d"
           }
          ],
          "histogram2dcontour": [
           {
            "colorbar": {
             "outlinewidth": 0,
             "ticks": ""
            },
            "colorscale": [
             [
              0,
              "#0d0887"
             ],
             [
              0.1111111111111111,
              "#46039f"
             ],
             [
              0.2222222222222222,
              "#7201a8"
             ],
             [
              0.3333333333333333,
              "#9c179e"
             ],
             [
              0.4444444444444444,
              "#bd3786"
             ],
             [
              0.5555555555555556,
              "#d8576b"
             ],
             [
              0.6666666666666666,
              "#ed7953"
             ],
             [
              0.7777777777777778,
              "#fb9f3a"
             ],
             [
              0.8888888888888888,
              "#fdca26"
             ],
             [
              1,
              "#f0f921"
             ]
            ],
            "type": "histogram2dcontour"
           }
          ],
          "mesh3d": [
           {
            "colorbar": {
             "outlinewidth": 0,
             "ticks": ""
            },
            "type": "mesh3d"
           }
          ],
          "parcoords": [
           {
            "line": {
             "colorbar": {
              "outlinewidth": 0,
              "ticks": ""
             }
            },
            "type": "parcoords"
           }
          ],
          "pie": [
           {
            "automargin": true,
            "type": "pie"
           }
          ],
          "scatter": [
           {
            "fillpattern": {
             "fillmode": "overlay",
             "size": 10,
             "solidity": 0.2
            },
            "type": "scatter"
           }
          ],
          "scatter3d": [
           {
            "line": {
             "colorbar": {
              "outlinewidth": 0,
              "ticks": ""
             }
            },
            "marker": {
             "colorbar": {
              "outlinewidth": 0,
              "ticks": ""
             }
            },
            "type": "scatter3d"
           }
          ],
          "scattercarpet": [
           {
            "marker": {
             "colorbar": {
              "outlinewidth": 0,
              "ticks": ""
             }
            },
            "type": "scattercarpet"
           }
          ],
          "scattergeo": [
           {
            "marker": {
             "colorbar": {
              "outlinewidth": 0,
              "ticks": ""
             }
            },
            "type": "scattergeo"
           }
          ],
          "scattergl": [
           {
            "marker": {
             "colorbar": {
              "outlinewidth": 0,
              "ticks": ""
             }
            },
            "type": "scattergl"
           }
          ],
          "scattermap": [
           {
            "marker": {
             "colorbar": {
              "outlinewidth": 0,
              "ticks": ""
             }
            },
            "type": "scattermap"
           }
          ],
          "scattermapbox": [
           {
            "marker": {
             "colorbar": {
              "outlinewidth": 0,
              "ticks": ""
             }
            },
            "type": "scattermapbox"
           }
          ],
          "scatterpolar": [
           {
            "marker": {
             "colorbar": {
              "outlinewidth": 0,
              "ticks": ""
             }
            },
            "type": "scatterpolar"
           }
          ],
          "scatterpolargl": [
           {
            "marker": {
             "colorbar": {
              "outlinewidth": 0,
              "ticks": ""
             }
            },
            "type": "scatterpolargl"
           }
          ],
          "scatterternary": [
           {
            "marker": {
             "colorbar": {
              "outlinewidth": 0,
              "ticks": ""
             }
            },
            "type": "scatterternary"
           }
          ],
          "surface": [
           {
            "colorbar": {
             "outlinewidth": 0,
             "ticks": ""
            },
            "colorscale": [
             [
              0,
              "#0d0887"
             ],
             [
              0.1111111111111111,
              "#46039f"
             ],
             [
              0.2222222222222222,
              "#7201a8"
             ],
             [
              0.3333333333333333,
              "#9c179e"
             ],
             [
              0.4444444444444444,
              "#bd3786"
             ],
             [
              0.5555555555555556,
              "#d8576b"
             ],
             [
              0.6666666666666666,
              "#ed7953"
             ],
             [
              0.7777777777777778,
              "#fb9f3a"
             ],
             [
              0.8888888888888888,
              "#fdca26"
             ],
             [
              1,
              "#f0f921"
             ]
            ],
            "type": "surface"
           }
          ],
          "table": [
           {
            "cells": {
             "fill": {
              "color": "#EBF0F8"
             },
             "line": {
              "color": "white"
             }
            },
            "header": {
             "fill": {
              "color": "#C8D4E3"
             },
             "line": {
              "color": "white"
             }
            },
            "type": "table"
           }
          ]
         },
         "layout": {
          "annotationdefaults": {
           "arrowcolor": "#2a3f5f",
           "arrowhead": 0,
           "arrowwidth": 1
          },
          "autotypenumbers": "strict",
          "coloraxis": {
           "colorbar": {
            "outlinewidth": 0,
            "ticks": ""
           }
          },
          "colorscale": {
           "diverging": [
            [
             0,
             "#8e0152"
            ],
            [
             0.1,
             "#c51b7d"
            ],
            [
             0.2,
             "#de77ae"
            ],
            [
             0.3,
             "#f1b6da"
            ],
            [
             0.4,
             "#fde0ef"
            ],
            [
             0.5,
             "#f7f7f7"
            ],
            [
             0.6,
             "#e6f5d0"
            ],
            [
             0.7,
             "#b8e186"
            ],
            [
             0.8,
             "#7fbc41"
            ],
            [
             0.9,
             "#4d9221"
            ],
            [
             1,
             "#276419"
            ]
           ],
           "sequential": [
            [
             0,
             "#0d0887"
            ],
            [
             0.1111111111111111,
             "#46039f"
            ],
            [
             0.2222222222222222,
             "#7201a8"
            ],
            [
             0.3333333333333333,
             "#9c179e"
            ],
            [
             0.4444444444444444,
             "#bd3786"
            ],
            [
             0.5555555555555556,
             "#d8576b"
            ],
            [
             0.6666666666666666,
             "#ed7953"
            ],
            [
             0.7777777777777778,
             "#fb9f3a"
            ],
            [
             0.8888888888888888,
             "#fdca26"
            ],
            [
             1,
             "#f0f921"
            ]
           ],
           "sequentialminus": [
            [
             0,
             "#0d0887"
            ],
            [
             0.1111111111111111,
             "#46039f"
            ],
            [
             0.2222222222222222,
             "#7201a8"
            ],
            [
             0.3333333333333333,
             "#9c179e"
            ],
            [
             0.4444444444444444,
             "#bd3786"
            ],
            [
             0.5555555555555556,
             "#d8576b"
            ],
            [
             0.6666666666666666,
             "#ed7953"
            ],
            [
             0.7777777777777778,
             "#fb9f3a"
            ],
            [
             0.8888888888888888,
             "#fdca26"
            ],
            [
             1,
             "#f0f921"
            ]
           ]
          },
          "colorway": [
           "#636efa",
           "#EF553B",
           "#00cc96",
           "#ab63fa",
           "#FFA15A",
           "#19d3f3",
           "#FF6692",
           "#B6E880",
           "#FF97FF",
           "#FECB52"
          ],
          "font": {
           "color": "#2a3f5f"
          },
          "geo": {
           "bgcolor": "white",
           "lakecolor": "white",
           "landcolor": "#E5ECF6",
           "showlakes": true,
           "showland": true,
           "subunitcolor": "white"
          },
          "hoverlabel": {
           "align": "left"
          },
          "hovermode": "closest",
          "mapbox": {
           "style": "light"
          },
          "paper_bgcolor": "white",
          "plot_bgcolor": "#E5ECF6",
          "polar": {
           "angularaxis": {
            "gridcolor": "white",
            "linecolor": "white",
            "ticks": ""
           },
           "bgcolor": "#E5ECF6",
           "radialaxis": {
            "gridcolor": "white",
            "linecolor": "white",
            "ticks": ""
           }
          },
          "scene": {
           "xaxis": {
            "backgroundcolor": "#E5ECF6",
            "gridcolor": "white",
            "gridwidth": 2,
            "linecolor": "white",
            "showbackground": true,
            "ticks": "",
            "zerolinecolor": "white"
           },
           "yaxis": {
            "backgroundcolor": "#E5ECF6",
            "gridcolor": "white",
            "gridwidth": 2,
            "linecolor": "white",
            "showbackground": true,
            "ticks": "",
            "zerolinecolor": "white"
           },
           "zaxis": {
            "backgroundcolor": "#E5ECF6",
            "gridcolor": "white",
            "gridwidth": 2,
            "linecolor": "white",
            "showbackground": true,
            "ticks": "",
            "zerolinecolor": "white"
           }
          },
          "shapedefaults": {
           "line": {
            "color": "#2a3f5f"
           }
          },
          "ternary": {
           "aaxis": {
            "gridcolor": "white",
            "linecolor": "white",
            "ticks": ""
           },
           "baxis": {
            "gridcolor": "white",
            "linecolor": "white",
            "ticks": ""
           },
           "bgcolor": "#E5ECF6",
           "caxis": {
            "gridcolor": "white",
            "linecolor": "white",
            "ticks": ""
           }
          },
          "title": {
           "x": 0.05
          },
          "xaxis": {
           "automargin": true,
           "gridcolor": "white",
           "linecolor": "white",
           "ticks": "",
           "title": {
            "standoff": 15
           },
           "zerolinecolor": "white",
           "zerolinewidth": 2
          },
          "yaxis": {
           "automargin": true,
           "gridcolor": "white",
           "linecolor": "white",
           "ticks": "",
           "title": {
            "standoff": 15
           },
           "zerolinecolor": "white",
           "zerolinewidth": 2
          }
         }
        },
        "title": {
         "text": "Корреляция количества сотрудников компании с количеством фондов, держащих ее акцию"
        },
        "xaxis": {
         "color": "white",
         "title": {
          "text": "количество сотрудников"
         },
         "type": "log"
        },
        "yaxis": {
         "color": "white",
         "title": {
          "text": "количество фондов"
         },
         "type": "log"
        }
       }
      }
     },
     "metadata": {},
     "output_type": "display_data"
    }
   ],
   "source": [
    "# посмотрим, коррелирует ли количество сотрудников (Employees из df_stock_info) с количеством фондов, держащих акцию (held_by из df_prices)\n",
    "# так как данные по сотрудникам есть только текущие, возьмем последнее значение held_by для каждой акции\n",
    "\n",
    "import plotly.graph_objects as go\n",
    "import numpy as np\n",
    "from scipy.stats import linregress\n",
    "\n",
    "# преобразование данных\n",
    "df_stock_info['Employees'] = df_stock_info['Employees'].replace('', pd.NA)\n",
    "df_stock_info_filtered = df_stock_info[~df_stock_info['Employees'].isna()].copy()\n",
    "df_stock_info_filtered['Employees'] = df_stock_info_filtered['Employees'].apply(lambda x: int(x.replace(',', '')))\n",
    "\n",
    "print('employees:\\n', df_stock_info_filtered['Employees'].describe())\n",
    "\n",
    "latest_held_by = df_prices.groupby('stock_permalink')['held_by'].last().reset_index()\n",
    "latest_held_by.columns = ['permalink', 'held_by']\n",
    "\n",
    "print('held_by:\\n', latest_held_by['held_by'].describe())\n",
    "\n",
    "# объединяем по permalink\n",
    "merged_data = pd.merge(latest_held_by, df_stock_info_filtered[['permalink', 'Employees']], on='permalink')\n",
    "# удалим нули чтобы использовать log10\n",
    "merged_data = merged_data[(merged_data['Employees'] > 0) & (merged_data['held_by'] > 0)]\n",
    "\n",
    "# линейная регрессия\n",
    "slope, intercept, r_value, p_value, std_err = linregress(np.log10(merged_data['Employees']), np.log10(merged_data['held_by']))\n",
    "\n",
    "# прогнозные значения по модели\n",
    "reg_line = intercept + slope * np.log10(merged_data['Employees'])\n",
    "\n",
    "fig = go.Figure()\n",
    "fig.add_trace(go.Scatter(\n",
    "    x=merged_data['Employees'],\n",
    "    y=merged_data['held_by'],\n",
    "    mode='markers',\n",
    "    text=merged_data['permalink'],\n",
    "    name='данные'\n",
    "))\n",
    "\n",
    "fig.add_trace(go.Scatter(\n",
    "    x=merged_data['Employees'],\n",
    "    y=10**reg_line,\n",
    "    mode='lines',\n",
    "    name='линейная регрессия'\n",
    "))\n",
    "\n",
    "layout = go.Layout(\n",
    "    title='Корреляция количества сотрудников компании с количеством фондов, держащих ее акцию',\n",
    "    plot_bgcolor='#1e2130',\n",
    "    paper_bgcolor='#1e2130',\n",
    "    xaxis=dict(title='количество сотрудников', color='white', type='log'),\n",
    "    yaxis=dict(title='количество фондов', color='white', type='log'),\n",
    "    font=dict(color='white')\n",
    ")\n",
    "\n",
    "fig.update_layout(layout)\n",
    "fig.show()\n"
   ]
  },
  {
   "cell_type": "code",
   "execution_count": 476,
   "metadata": {},
   "outputs": [
    {
     "name": "stdout",
     "output_type": "stream",
     "text": [
      "put_call_ratio     1241\n",
      "market_cap_13f        0\n",
      "average_ranking       6\n",
      "net_buys              1\n",
      "held_by               0\n",
      "dtype: int64\n"
     ]
    },
    {
     "name": "stderr",
     "output_type": "stream",
     "text": [
      "/var/folders/x8/tfsssv253212pc41tq4g2fnr0000gn/T/ipykernel_87219/259488448.py:21: FutureWarning:\n",
      "\n",
      "The default fill_method='ffill' in DataFrameGroupBy.pct_change is deprecated and will be removed in a future version. Either fill in any non-leading NA values prior to calling pct_change or specify 'fill_method=None' to not fill NA values.\n",
      "\n"
     ]
    },
    {
     "data": {
      "application/vnd.plotly.v1+json": {
       "config": {
        "plotlyServerURL": "https://plot.ly"
       },
       "data": [
        {
         "colorscale": [
          [
           0,
           "#440154"
          ],
          [
           0.1111111111111111,
           "#482878"
          ],
          [
           0.2222222222222222,
           "#3e4989"
          ],
          [
           0.3333333333333333,
           "#31688e"
          ],
          [
           0.4444444444444444,
           "#26828e"
          ],
          [
           0.5555555555555556,
           "#1f9e89"
          ],
          [
           0.6666666666666666,
           "#35b779"
          ],
          [
           0.7777777777777778,
           "#6ece58"
          ],
          [
           0.8888888888888888,
           "#b5de2b"
          ],
          [
           1,
           "#fde725"
          ]
         ],
         "type": "heatmap",
         "x": [
          "closing_price",
          "put_call_ratio",
          "market_cap_13f",
          "average_ranking",
          "net_buys",
          "held_by"
         ],
         "y": [
          "closing_price",
          "put_call_ratio",
          "market_cap_13f",
          "average_ranking",
          "net_buys",
          "held_by"
         ],
         "z": {
          "bdata": "AAAAAAAA8D9ABOnRKWqYP17bLEj6NnG/BwuBg3T9cL9OFtuxG8adP2r16pIdFqY/QATp0SlqmD8AAAAAAADwP2twCDyluzc/wQaqacQUkb+rCKx1tP5cv5OxVy7o43Q/XtssSPo2cb9rcAg8pbs3PwAAAAAAAPA/TAJXJXqEU7+UZdR3BKuQPwEoABAVmpM/BwuBg3T9cL/BBqppxBSRv0wCVyV6hFO/AAAAAAAA8D9p5Y7G1Mk/P6tgCGZrbrI/ThbbsRvGnT+rCKx1tP5cv5Rl1HcEq5A/aeWOxtTJPz8AAAAAAADwP5hpomRxDqc/avXqkh0Wpj+TsVcu6ON0PwEoABAVmpM/q2AIZmtusj+YaaJkcQ6nPwAAAAAAAPA/",
          "dtype": "f8",
          "shape": "6, 6"
         }
        }
       ],
       "layout": {
        "font": {
         "color": "white"
        },
        "paper_bgcolor": "#1e2130",
        "plot_bgcolor": "#1e2130",
        "template": {
         "data": {
          "bar": [
           {
            "error_x": {
             "color": "#2a3f5f"
            },
            "error_y": {
             "color": "#2a3f5f"
            },
            "marker": {
             "line": {
              "color": "#E5ECF6",
              "width": 0.5
             },
             "pattern": {
              "fillmode": "overlay",
              "size": 10,
              "solidity": 0.2
             }
            },
            "type": "bar"
           }
          ],
          "barpolar": [
           {
            "marker": {
             "line": {
              "color": "#E5ECF6",
              "width": 0.5
             },
             "pattern": {
              "fillmode": "overlay",
              "size": 10,
              "solidity": 0.2
             }
            },
            "type": "barpolar"
           }
          ],
          "carpet": [
           {
            "aaxis": {
             "endlinecolor": "#2a3f5f",
             "gridcolor": "white",
             "linecolor": "white",
             "minorgridcolor": "white",
             "startlinecolor": "#2a3f5f"
            },
            "baxis": {
             "endlinecolor": "#2a3f5f",
             "gridcolor": "white",
             "linecolor": "white",
             "minorgridcolor": "white",
             "startlinecolor": "#2a3f5f"
            },
            "type": "carpet"
           }
          ],
          "choropleth": [
           {
            "colorbar": {
             "outlinewidth": 0,
             "ticks": ""
            },
            "type": "choropleth"
           }
          ],
          "contour": [
           {
            "colorbar": {
             "outlinewidth": 0,
             "ticks": ""
            },
            "colorscale": [
             [
              0,
              "#0d0887"
             ],
             [
              0.1111111111111111,
              "#46039f"
             ],
             [
              0.2222222222222222,
              "#7201a8"
             ],
             [
              0.3333333333333333,
              "#9c179e"
             ],
             [
              0.4444444444444444,
              "#bd3786"
             ],
             [
              0.5555555555555556,
              "#d8576b"
             ],
             [
              0.6666666666666666,
              "#ed7953"
             ],
             [
              0.7777777777777778,
              "#fb9f3a"
             ],
             [
              0.8888888888888888,
              "#fdca26"
             ],
             [
              1,
              "#f0f921"
             ]
            ],
            "type": "contour"
           }
          ],
          "contourcarpet": [
           {
            "colorbar": {
             "outlinewidth": 0,
             "ticks": ""
            },
            "type": "contourcarpet"
           }
          ],
          "heatmap": [
           {
            "colorbar": {
             "outlinewidth": 0,
             "ticks": ""
            },
            "colorscale": [
             [
              0,
              "#0d0887"
             ],
             [
              0.1111111111111111,
              "#46039f"
             ],
             [
              0.2222222222222222,
              "#7201a8"
             ],
             [
              0.3333333333333333,
              "#9c179e"
             ],
             [
              0.4444444444444444,
              "#bd3786"
             ],
             [
              0.5555555555555556,
              "#d8576b"
             ],
             [
              0.6666666666666666,
              "#ed7953"
             ],
             [
              0.7777777777777778,
              "#fb9f3a"
             ],
             [
              0.8888888888888888,
              "#fdca26"
             ],
             [
              1,
              "#f0f921"
             ]
            ],
            "type": "heatmap"
           }
          ],
          "histogram": [
           {
            "marker": {
             "pattern": {
              "fillmode": "overlay",
              "size": 10,
              "solidity": 0.2
             }
            },
            "type": "histogram"
           }
          ],
          "histogram2d": [
           {
            "colorbar": {
             "outlinewidth": 0,
             "ticks": ""
            },
            "colorscale": [
             [
              0,
              "#0d0887"
             ],
             [
              0.1111111111111111,
              "#46039f"
             ],
             [
              0.2222222222222222,
              "#7201a8"
             ],
             [
              0.3333333333333333,
              "#9c179e"
             ],
             [
              0.4444444444444444,
              "#bd3786"
             ],
             [
              0.5555555555555556,
              "#d8576b"
             ],
             [
              0.6666666666666666,
              "#ed7953"
             ],
             [
              0.7777777777777778,
              "#fb9f3a"
             ],
             [
              0.8888888888888888,
              "#fdca26"
             ],
             [
              1,
              "#f0f921"
             ]
            ],
            "type": "histogram2d"
           }
          ],
          "histogram2dcontour": [
           {
            "colorbar": {
             "outlinewidth": 0,
             "ticks": ""
            },
            "colorscale": [
             [
              0,
              "#0d0887"
             ],
             [
              0.1111111111111111,
              "#46039f"
             ],
             [
              0.2222222222222222,
              "#7201a8"
             ],
             [
              0.3333333333333333,
              "#9c179e"
             ],
             [
              0.4444444444444444,
              "#bd3786"
             ],
             [
              0.5555555555555556,
              "#d8576b"
             ],
             [
              0.6666666666666666,
              "#ed7953"
             ],
             [
              0.7777777777777778,
              "#fb9f3a"
             ],
             [
              0.8888888888888888,
              "#fdca26"
             ],
             [
              1,
              "#f0f921"
             ]
            ],
            "type": "histogram2dcontour"
           }
          ],
          "mesh3d": [
           {
            "colorbar": {
             "outlinewidth": 0,
             "ticks": ""
            },
            "type": "mesh3d"
           }
          ],
          "parcoords": [
           {
            "line": {
             "colorbar": {
              "outlinewidth": 0,
              "ticks": ""
             }
            },
            "type": "parcoords"
           }
          ],
          "pie": [
           {
            "automargin": true,
            "type": "pie"
           }
          ],
          "scatter": [
           {
            "fillpattern": {
             "fillmode": "overlay",
             "size": 10,
             "solidity": 0.2
            },
            "type": "scatter"
           }
          ],
          "scatter3d": [
           {
            "line": {
             "colorbar": {
              "outlinewidth": 0,
              "ticks": ""
             }
            },
            "marker": {
             "colorbar": {
              "outlinewidth": 0,
              "ticks": ""
             }
            },
            "type": "scatter3d"
           }
          ],
          "scattercarpet": [
           {
            "marker": {
             "colorbar": {
              "outlinewidth": 0,
              "ticks": ""
             }
            },
            "type": "scattercarpet"
           }
          ],
          "scattergeo": [
           {
            "marker": {
             "colorbar": {
              "outlinewidth": 0,
              "ticks": ""
             }
            },
            "type": "scattergeo"
           }
          ],
          "scattergl": [
           {
            "marker": {
             "colorbar": {
              "outlinewidth": 0,
              "ticks": ""
             }
            },
            "type": "scattergl"
           }
          ],
          "scattermap": [
           {
            "marker": {
             "colorbar": {
              "outlinewidth": 0,
              "ticks": ""
             }
            },
            "type": "scattermap"
           }
          ],
          "scattermapbox": [
           {
            "marker": {
             "colorbar": {
              "outlinewidth": 0,
              "ticks": ""
             }
            },
            "type": "scattermapbox"
           }
          ],
          "scatterpolar": [
           {
            "marker": {
             "colorbar": {
              "outlinewidth": 0,
              "ticks": ""
             }
            },
            "type": "scatterpolar"
           }
          ],
          "scatterpolargl": [
           {
            "marker": {
             "colorbar": {
              "outlinewidth": 0,
              "ticks": ""
             }
            },
            "type": "scatterpolargl"
           }
          ],
          "scatterternary": [
           {
            "marker": {
             "colorbar": {
              "outlinewidth": 0,
              "ticks": ""
             }
            },
            "type": "scatterternary"
           }
          ],
          "surface": [
           {
            "colorbar": {
             "outlinewidth": 0,
             "ticks": ""
            },
            "colorscale": [
             [
              0,
              "#0d0887"
             ],
             [
              0.1111111111111111,
              "#46039f"
             ],
             [
              0.2222222222222222,
              "#7201a8"
             ],
             [
              0.3333333333333333,
              "#9c179e"
             ],
             [
              0.4444444444444444,
              "#bd3786"
             ],
             [
              0.5555555555555556,
              "#d8576b"
             ],
             [
              0.6666666666666666,
              "#ed7953"
             ],
             [
              0.7777777777777778,
              "#fb9f3a"
             ],
             [
              0.8888888888888888,
              "#fdca26"
             ],
             [
              1,
              "#f0f921"
             ]
            ],
            "type": "surface"
           }
          ],
          "table": [
           {
            "cells": {
             "fill": {
              "color": "#EBF0F8"
             },
             "line": {
              "color": "white"
             }
            },
            "header": {
             "fill": {
              "color": "#C8D4E3"
             },
             "line": {
              "color": "white"
             }
            },
            "type": "table"
           }
          ]
         },
         "layout": {
          "annotationdefaults": {
           "arrowcolor": "#2a3f5f",
           "arrowhead": 0,
           "arrowwidth": 1
          },
          "autotypenumbers": "strict",
          "coloraxis": {
           "colorbar": {
            "outlinewidth": 0,
            "ticks": ""
           }
          },
          "colorscale": {
           "diverging": [
            [
             0,
             "#8e0152"
            ],
            [
             0.1,
             "#c51b7d"
            ],
            [
             0.2,
             "#de77ae"
            ],
            [
             0.3,
             "#f1b6da"
            ],
            [
             0.4,
             "#fde0ef"
            ],
            [
             0.5,
             "#f7f7f7"
            ],
            [
             0.6,
             "#e6f5d0"
            ],
            [
             0.7,
             "#b8e186"
            ],
            [
             0.8,
             "#7fbc41"
            ],
            [
             0.9,
             "#4d9221"
            ],
            [
             1,
             "#276419"
            ]
           ],
           "sequential": [
            [
             0,
             "#0d0887"
            ],
            [
             0.1111111111111111,
             "#46039f"
            ],
            [
             0.2222222222222222,
             "#7201a8"
            ],
            [
             0.3333333333333333,
             "#9c179e"
            ],
            [
             0.4444444444444444,
             "#bd3786"
            ],
            [
             0.5555555555555556,
             "#d8576b"
            ],
            [
             0.6666666666666666,
             "#ed7953"
            ],
            [
             0.7777777777777778,
             "#fb9f3a"
            ],
            [
             0.8888888888888888,
             "#fdca26"
            ],
            [
             1,
             "#f0f921"
            ]
           ],
           "sequentialminus": [
            [
             0,
             "#0d0887"
            ],
            [
             0.1111111111111111,
             "#46039f"
            ],
            [
             0.2222222222222222,
             "#7201a8"
            ],
            [
             0.3333333333333333,
             "#9c179e"
            ],
            [
             0.4444444444444444,
             "#bd3786"
            ],
            [
             0.5555555555555556,
             "#d8576b"
            ],
            [
             0.6666666666666666,
             "#ed7953"
            ],
            [
             0.7777777777777778,
             "#fb9f3a"
            ],
            [
             0.8888888888888888,
             "#fdca26"
            ],
            [
             1,
             "#f0f921"
            ]
           ]
          },
          "colorway": [
           "#636efa",
           "#EF553B",
           "#00cc96",
           "#ab63fa",
           "#FFA15A",
           "#19d3f3",
           "#FF6692",
           "#B6E880",
           "#FF97FF",
           "#FECB52"
          ],
          "font": {
           "color": "#2a3f5f"
          },
          "geo": {
           "bgcolor": "white",
           "lakecolor": "white",
           "landcolor": "#E5ECF6",
           "showlakes": true,
           "showland": true,
           "subunitcolor": "white"
          },
          "hoverlabel": {
           "align": "left"
          },
          "hovermode": "closest",
          "mapbox": {
           "style": "light"
          },
          "paper_bgcolor": "white",
          "plot_bgcolor": "#E5ECF6",
          "polar": {
           "angularaxis": {
            "gridcolor": "white",
            "linecolor": "white",
            "ticks": ""
           },
           "bgcolor": "#E5ECF6",
           "radialaxis": {
            "gridcolor": "white",
            "linecolor": "white",
            "ticks": ""
           }
          },
          "scene": {
           "xaxis": {
            "backgroundcolor": "#E5ECF6",
            "gridcolor": "white",
            "gridwidth": 2,
            "linecolor": "white",
            "showbackground": true,
            "ticks": "",
            "zerolinecolor": "white"
           },
           "yaxis": {
            "backgroundcolor": "#E5ECF6",
            "gridcolor": "white",
            "gridwidth": 2,
            "linecolor": "white",
            "showbackground": true,
            "ticks": "",
            "zerolinecolor": "white"
           },
           "zaxis": {
            "backgroundcolor": "#E5ECF6",
            "gridcolor": "white",
            "gridwidth": 2,
            "linecolor": "white",
            "showbackground": true,
            "ticks": "",
            "zerolinecolor": "white"
           }
          },
          "shapedefaults": {
           "line": {
            "color": "#2a3f5f"
           }
          },
          "ternary": {
           "aaxis": {
            "gridcolor": "white",
            "linecolor": "white",
            "ticks": ""
           },
           "baxis": {
            "gridcolor": "white",
            "linecolor": "white",
            "ticks": ""
           },
           "bgcolor": "#E5ECF6",
           "caxis": {
            "gridcolor": "white",
            "linecolor": "white",
            "ticks": ""
           }
          },
          "title": {
           "x": 0.05
          },
          "xaxis": {
           "automargin": true,
           "gridcolor": "white",
           "linecolor": "white",
           "ticks": "",
           "title": {
            "standoff": 15
           },
           "zerolinecolor": "white",
           "zerolinewidth": 2
          },
          "yaxis": {
           "automargin": true,
           "gridcolor": "white",
           "linecolor": "white",
           "ticks": "",
           "title": {
            "standoff": 15
           },
           "zerolinecolor": "white",
           "zerolinewidth": 2
          }
         }
        },
        "title": {
         "text": "Correlation heatmap"
        },
        "xaxis": {
         "color": "white",
         "title": {
          "text": "фичи"
         }
        },
        "yaxis": {
         "color": "white",
         "title": {
          "text": "фичи"
         }
        }
       }
      }
     },
     "metadata": {},
     "output_type": "display_data"
    }
   ],
   "source": [
    "# так как самые инсайтосодержацие признаки построены на 13f отчетах фондов, обновляющихся раз в квартал,\n",
    "# и, следовательно, меняются они раз в квартал, мы выберем из цен первое вхождение каждого quarter_id для каждого stock_id\n",
    "# и построим heatmap корреляции изменения всех числовых признаков из df_prices с изменением цены акции поквартально\n",
    "# для этого посчитаем pct_change, сгруппировав по stock_id\n",
    "\n",
    "numerical_cols = [\n",
    "    'put_call_ratio',\n",
    "    'market_cap_13f',\n",
    "    'average_ranking',\n",
    "    'net_buys',\n",
    "    'held_by'\n",
    "]\n",
    "\n",
    "# выбираем первый дата поинт по каждому кварталу для каждой акции\n",
    "df_first_entries = df_prices.sort_values(by=['quarter_id', 'date']).groupby(['stock_id', 'quarter_id']).first().reset_index()\n",
    "\n",
    "# пропущенных значений много только для put_call_ratio, но они не будут портить расчет корреляции, поэтому ничего с ними не делаем\n",
    "print(df_first_entries[numerical_cols].isna().sum())\n",
    "\n",
    "# считаем процентные изменения\n",
    "df_first_entries_pct_change = df_first_entries.groupby('stock_id')[['closing_price'] + numerical_cols].pct_change()\n",
    "\n",
    "correlation_matrix = df_first_entries_pct_change.corr()\n",
    "\n",
    "layout = go.Layout(\n",
    "    title='Correlation heatmap',\n",
    "    plot_bgcolor='#1e2130',\n",
    "    paper_bgcolor='#1e2130',\n",
    "    xaxis=dict(title='фичи', color='white'),\n",
    "    yaxis=dict(title='фичи', color='white'),\n",
    "    font=dict(color='white')\n",
    ")\n",
    "\n",
    "heatmap = go.Heatmap(\n",
    "    z=correlation_matrix.values,\n",
    "    x=correlation_matrix.columns,\n",
    "    y=correlation_matrix.index,\n",
    "    colorscale='Viridis'\n",
    ")\n",
    "\n",
    "fig = go.Figure(data=[heatmap], layout=layout)\n",
    "fig.show()\n"
   ]
  },
  {
   "cell_type": "code",
   "execution_count": 477,
   "metadata": {},
   "outputs": [
    {
     "data": {
      "text/html": [
       "<div>\n",
       "<style scoped>\n",
       "    .dataframe tbody tr th:only-of-type {\n",
       "        vertical-align: middle;\n",
       "    }\n",
       "\n",
       "    .dataframe tbody tr th {\n",
       "        vertical-align: top;\n",
       "    }\n",
       "\n",
       "    .dataframe thead th {\n",
       "        text-align: right;\n",
       "    }\n",
       "</style>\n",
       "<table border=\"1\" class=\"dataframe\">\n",
       "  <thead>\n",
       "    <tr style=\"text-align: right;\">\n",
       "      <th></th>\n",
       "      <th>stock_id</th>\n",
       "      <th>quarter_id</th>\n",
       "      <th>stock_permalink</th>\n",
       "      <th>closing_price</th>\n",
       "      <th>avg_short_volume</th>\n",
       "      <th>put_call_ratio</th>\n",
       "      <th>total_volume</th>\n",
       "      <th>sell_buy_ratio</th>\n",
       "      <th>date</th>\n",
       "      <th>market_cap_13f</th>\n",
       "      <th>total_shares</th>\n",
       "      <th>name</th>\n",
       "      <th>average_ranking</th>\n",
       "      <th>net_buys</th>\n",
       "      <th>held_by</th>\n",
       "      <th>yf_ticker</th>\n",
       "      <th>pct_change</th>\n",
       "      <th>ibb_change</th>\n",
       "      <th>pct_change_vs_ibb</th>\n",
       "    </tr>\n",
       "  </thead>\n",
       "  <tbody>\n",
       "    <tr>\n",
       "      <th>1</th>\n",
       "      <td>33</td>\n",
       "      <td>89</td>\n",
       "      <td>qdel</td>\n",
       "      <td>85.00</td>\n",
       "      <td>83958.0</td>\n",
       "      <td>0.632144</td>\n",
       "      <td>580959.0</td>\n",
       "      <td>NaN</td>\n",
       "      <td>2023-01-03</td>\n",
       "      <td>5.607862e+09</td>\n",
       "      <td>63184038</td>\n",
       "      <td>QUIDELORTHO CORP</td>\n",
       "      <td>867.0</td>\n",
       "      <td>-15.0</td>\n",
       "      <td>329</td>\n",
       "      <td>None</td>\n",
       "      <td>0.166621</td>\n",
       "      <td>0.091397</td>\n",
       "      <td>0.075224</td>\n",
       "    </tr>\n",
       "    <tr>\n",
       "      <th>2</th>\n",
       "      <td>33</td>\n",
       "      <td>90</td>\n",
       "      <td>qdel</td>\n",
       "      <td>89.09</td>\n",
       "      <td>41143.0</td>\n",
       "      <td>0.531716</td>\n",
       "      <td>285266.0</td>\n",
       "      <td>NaN</td>\n",
       "      <td>2023-03-31</td>\n",
       "      <td>5.190143e+09</td>\n",
       "      <td>62671315</td>\n",
       "      <td>QUIDELORTHO CORP</td>\n",
       "      <td>915.0</td>\n",
       "      <td>-35.0</td>\n",
       "      <td>309</td>\n",
       "      <td>None</td>\n",
       "      <td>0.048118</td>\n",
       "      <td>-0.006248</td>\n",
       "      <td>0.054366</td>\n",
       "    </tr>\n",
       "    <tr>\n",
       "      <th>3</th>\n",
       "      <td>33</td>\n",
       "      <td>91</td>\n",
       "      <td>qdel</td>\n",
       "      <td>83.25</td>\n",
       "      <td>35815.0</td>\n",
       "      <td>0.200276</td>\n",
       "      <td>198388.0</td>\n",
       "      <td>NaN</td>\n",
       "      <td>2023-07-03</td>\n",
       "      <td>4.643993e+09</td>\n",
       "      <td>63591083</td>\n",
       "      <td>QUIDELORTHO CORP</td>\n",
       "      <td>912.0</td>\n",
       "      <td>-61.0</td>\n",
       "      <td>299</td>\n",
       "      <td>None</td>\n",
       "      <td>-0.065552</td>\n",
       "      <td>-0.018146</td>\n",
       "      <td>-0.047406</td>\n",
       "    </tr>\n",
       "    <tr>\n",
       "      <th>4</th>\n",
       "      <td>33</td>\n",
       "      <td>92</td>\n",
       "      <td>qdel</td>\n",
       "      <td>72.71</td>\n",
       "      <td>79126.0</td>\n",
       "      <td>0.619331</td>\n",
       "      <td>444366.0</td>\n",
       "      <td>NaN</td>\n",
       "      <td>2023-10-02</td>\n",
       "      <td>4.874411e+09</td>\n",
       "      <td>66134633</td>\n",
       "      <td>QUIDELORTHO CORP</td>\n",
       "      <td>985.0</td>\n",
       "      <td>14.0</td>\n",
       "      <td>302</td>\n",
       "      <td>None</td>\n",
       "      <td>-0.126607</td>\n",
       "      <td>-0.047462</td>\n",
       "      <td>-0.079144</td>\n",
       "    </tr>\n",
       "    <tr>\n",
       "      <th>5</th>\n",
       "      <td>33</td>\n",
       "      <td>93</td>\n",
       "      <td>qdel</td>\n",
       "      <td>74.73</td>\n",
       "      <td>51909.0</td>\n",
       "      <td>0.332626</td>\n",
       "      <td>299476.0</td>\n",
       "      <td>NaN</td>\n",
       "      <td>2024-01-02</td>\n",
       "      <td>3.078711e+09</td>\n",
       "      <td>64182553</td>\n",
       "      <td>QUIDELORTHO CORP</td>\n",
       "      <td>1226.0</td>\n",
       "      <td>-47.0</td>\n",
       "      <td>266</td>\n",
       "      <td>None</td>\n",
       "      <td>0.027782</td>\n",
       "      <td>0.145547</td>\n",
       "      <td>-0.117765</td>\n",
       "    </tr>\n",
       "    <tr>\n",
       "      <th>...</th>\n",
       "      <td>...</td>\n",
       "      <td>...</td>\n",
       "      <td>...</td>\n",
       "      <td>...</td>\n",
       "      <td>...</td>\n",
       "      <td>...</td>\n",
       "      <td>...</td>\n",
       "      <td>...</td>\n",
       "      <td>...</td>\n",
       "      <td>...</td>\n",
       "      <td>...</td>\n",
       "      <td>...</td>\n",
       "      <td>...</td>\n",
       "      <td>...</td>\n",
       "      <td>...</td>\n",
       "      <td>...</td>\n",
       "      <td>...</td>\n",
       "      <td>...</td>\n",
       "      <td>...</td>\n",
       "    </tr>\n",
       "    <tr>\n",
       "      <th>5479</th>\n",
       "      <td>309705</td>\n",
       "      <td>96</td>\n",
       "      <td>solv</td>\n",
       "      <td>67.30</td>\n",
       "      <td>148433.0</td>\n",
       "      <td>0.689426</td>\n",
       "      <td>932343.0</td>\n",
       "      <td>NaN</td>\n",
       "      <td>2024-10-01</td>\n",
       "      <td>7.254366e+09</td>\n",
       "      <td>109778433</td>\n",
       "      <td>SOLVENTUM CORP</td>\n",
       "      <td>577.0</td>\n",
       "      <td>-176.0</td>\n",
       "      <td>901</td>\n",
       "      <td>None</td>\n",
       "      <td>0.308066</td>\n",
       "      <td>0.058404</td>\n",
       "      <td>0.249662</td>\n",
       "    </tr>\n",
       "    <tr>\n",
       "      <th>5481</th>\n",
       "      <td>310051</td>\n",
       "      <td>95</td>\n",
       "      <td>inxb</td>\n",
       "      <td>13.74</td>\n",
       "      <td>0.0</td>\n",
       "      <td>0.427390</td>\n",
       "      <td>128839.0</td>\n",
       "      <td>NaN</td>\n",
       "      <td>2024-07-01</td>\n",
       "      <td>1.393285e+08</td>\n",
       "      <td>8897421</td>\n",
       "      <td>INHIBRX BIOSCIENCES INC</td>\n",
       "      <td>2437.0</td>\n",
       "      <td>22.0</td>\n",
       "      <td>96</td>\n",
       "      <td>None</td>\n",
       "      <td>-0.201627</td>\n",
       "      <td>0.001172</td>\n",
       "      <td>-0.202799</td>\n",
       "    </tr>\n",
       "    <tr>\n",
       "      <th>5482</th>\n",
       "      <td>310051</td>\n",
       "      <td>96</td>\n",
       "      <td>inxb</td>\n",
       "      <td>15.45</td>\n",
       "      <td>16722.0</td>\n",
       "      <td>0.332544</td>\n",
       "      <td>151884.0</td>\n",
       "      <td>NaN</td>\n",
       "      <td>2024-10-01</td>\n",
       "      <td>1.706922e+08</td>\n",
       "      <td>11084127</td>\n",
       "      <td>INHIBRX BIOSCIENCES INC</td>\n",
       "      <td>2329.0</td>\n",
       "      <td>4.0</td>\n",
       "      <td>99</td>\n",
       "      <td>None</td>\n",
       "      <td>0.124454</td>\n",
       "      <td>0.058404</td>\n",
       "      <td>0.066050</td>\n",
       "    </tr>\n",
       "    <tr>\n",
       "      <th>5484</th>\n",
       "      <td>310105</td>\n",
       "      <td>95</td>\n",
       "      <td>rapp</td>\n",
       "      <td>25.44</td>\n",
       "      <td>88887.0</td>\n",
       "      <td>NaN</td>\n",
       "      <td>376849.0</td>\n",
       "      <td>NaN</td>\n",
       "      <td>2024-07-01</td>\n",
       "      <td>5.804439e+08</td>\n",
       "      <td>28374042</td>\n",
       "      <td>RAPPORT THERAPEUTICS INC</td>\n",
       "      <td>2231.0</td>\n",
       "      <td>23.0</td>\n",
       "      <td>54</td>\n",
       "      <td>None</td>\n",
       "      <td>-0.028637</td>\n",
       "      <td>0.001172</td>\n",
       "      <td>-0.029809</td>\n",
       "    </tr>\n",
       "    <tr>\n",
       "      <th>5485</th>\n",
       "      <td>310105</td>\n",
       "      <td>96</td>\n",
       "      <td>rapp</td>\n",
       "      <td>20.31</td>\n",
       "      <td>21259.0</td>\n",
       "      <td>NaN</td>\n",
       "      <td>92474.0</td>\n",
       "      <td>NaN</td>\n",
       "      <td>2024-10-01</td>\n",
       "      <td>6.488606e+08</td>\n",
       "      <td>36575850</td>\n",
       "      <td>RAPPORT THERAPEUTICS INC</td>\n",
       "      <td>2214.0</td>\n",
       "      <td>21.0</td>\n",
       "      <td>69</td>\n",
       "      <td>None</td>\n",
       "      <td>-0.201651</td>\n",
       "      <td>0.058404</td>\n",
       "      <td>-0.260055</td>\n",
       "    </tr>\n",
       "  </tbody>\n",
       "</table>\n",
       "<p>4865 rows × 19 columns</p>\n",
       "</div>"
      ],
      "text/plain": [
       "      stock_id  quarter_id stock_permalink  closing_price  avg_short_volume  \\\n",
       "1           33          89            qdel          85.00           83958.0   \n",
       "2           33          90            qdel          89.09           41143.0   \n",
       "3           33          91            qdel          83.25           35815.0   \n",
       "4           33          92            qdel          72.71           79126.0   \n",
       "5           33          93            qdel          74.73           51909.0   \n",
       "...        ...         ...             ...            ...               ...   \n",
       "5479    309705          96            solv          67.30          148433.0   \n",
       "5481    310051          95            inxb          13.74               0.0   \n",
       "5482    310051          96            inxb          15.45           16722.0   \n",
       "5484    310105          95            rapp          25.44           88887.0   \n",
       "5485    310105          96            rapp          20.31           21259.0   \n",
       "\n",
       "      put_call_ratio  total_volume  sell_buy_ratio       date  market_cap_13f  \\\n",
       "1           0.632144      580959.0             NaN 2023-01-03    5.607862e+09   \n",
       "2           0.531716      285266.0             NaN 2023-03-31    5.190143e+09   \n",
       "3           0.200276      198388.0             NaN 2023-07-03    4.643993e+09   \n",
       "4           0.619331      444366.0             NaN 2023-10-02    4.874411e+09   \n",
       "5           0.332626      299476.0             NaN 2024-01-02    3.078711e+09   \n",
       "...              ...           ...             ...        ...             ...   \n",
       "5479        0.689426      932343.0             NaN 2024-10-01    7.254366e+09   \n",
       "5481        0.427390      128839.0             NaN 2024-07-01    1.393285e+08   \n",
       "5482        0.332544      151884.0             NaN 2024-10-01    1.706922e+08   \n",
       "5484             NaN      376849.0             NaN 2024-07-01    5.804439e+08   \n",
       "5485             NaN       92474.0             NaN 2024-10-01    6.488606e+08   \n",
       "\n",
       "      total_shares                      name  average_ranking  net_buys  \\\n",
       "1         63184038          QUIDELORTHO CORP            867.0     -15.0   \n",
       "2         62671315          QUIDELORTHO CORP            915.0     -35.0   \n",
       "3         63591083          QUIDELORTHO CORP            912.0     -61.0   \n",
       "4         66134633          QUIDELORTHO CORP            985.0      14.0   \n",
       "5         64182553          QUIDELORTHO CORP           1226.0     -47.0   \n",
       "...            ...                       ...              ...       ...   \n",
       "5479     109778433            SOLVENTUM CORP            577.0    -176.0   \n",
       "5481       8897421   INHIBRX BIOSCIENCES INC           2437.0      22.0   \n",
       "5482      11084127   INHIBRX BIOSCIENCES INC           2329.0       4.0   \n",
       "5484      28374042  RAPPORT THERAPEUTICS INC           2231.0      23.0   \n",
       "5485      36575850  RAPPORT THERAPEUTICS INC           2214.0      21.0   \n",
       "\n",
       "      held_by yf_ticker  pct_change  ibb_change  pct_change_vs_ibb  \n",
       "1         329      None    0.166621    0.091397           0.075224  \n",
       "2         309      None    0.048118   -0.006248           0.054366  \n",
       "3         299      None   -0.065552   -0.018146          -0.047406  \n",
       "4         302      None   -0.126607   -0.047462          -0.079144  \n",
       "5         266      None    0.027782    0.145547          -0.117765  \n",
       "...       ...       ...         ...         ...                ...  \n",
       "5479      901      None    0.308066    0.058404           0.249662  \n",
       "5481       96      None   -0.201627    0.001172          -0.202799  \n",
       "5482       99      None    0.124454    0.058404           0.066050  \n",
       "5484       54      None   -0.028637    0.001172          -0.029809  \n",
       "5485       69      None   -0.201651    0.058404          -0.260055  \n",
       "\n",
       "[4865 rows x 19 columns]"
      ]
     },
     "execution_count": 477,
     "metadata": {},
     "output_type": "execute_result"
    }
   ],
   "source": [
    "# слегка прослеживается корелляция closing_price и held_by - 4.3%, что в принципе логично - чем лучше акция, тем больше фондов ее покупают\n",
    "# но значения все равно слишком низкие. почему?\n",
    "# данные очень неконсистентные, поэтому значения стоит отнормировать в соответствии с задачей - выбрать лучшие акции\n",
    "# поэтому каждому признаку присвоим значение от 0 до 1 в зависимости от места в отсортированном списке всех вариантов для каждого из кварталов\n",
    "\n",
    "# также процентное изменение цены акции - не совсем объективная метрика ее перформанса, так как помимо состояния компании на нее влияет еще и рынок\n",
    "# поэтому дальше будем исследовать цены с поправкой на биотех индекс ibb - это позволит минимизировать влияние рынка на результат\n",
    "# на корреляции признаков это не повлияет, но числовые значения прибыльности потрфелей станут более репрезентативными\n",
    "\n",
    "\n",
    "# считаем изменения цены по каждой акции\n",
    "df_first_entries['pct_change'] = df_first_entries.groupby('stock_id')['closing_price'].pct_change()\n",
    "\n",
    "# отдельно сохраняем значения индекса\n",
    "ibb_changes = df_first_entries[df_first_entries['stock_permalink'] == 'ibb'][['quarter_id', 'pct_change']]\n",
    "ibb_changes.rename(columns={'pct_change': 'ibb_change'}, inplace=True)\n",
    "\n",
    "# создаем pct_change_vs_ibb - альфу акций (изменение цены относительно индекса)\n",
    "df_first_entries = df_first_entries.merge(ibb_changes, on='quarter_id', how='left')\n",
    "df_first_entries['pct_change_vs_ibb'] = df_first_entries['pct_change'] - df_first_entries['ibb_change']\n",
    "\n",
    "# удалим nan по pct_change_vs_ibb (фактически только первый квартал, тк для него нет изменений цен)\n",
    "df_first_entries.dropna(subset='pct_change_vs_ibb', inplace=True)\n",
    "\n",
    "df_first_entries\n"
   ]
  },
  {
   "cell_type": "code",
   "execution_count": 478,
   "metadata": {},
   "outputs": [
    {
     "data": {
      "application/vnd.plotly.v1+json": {
       "config": {
        "plotlyServerURL": "https://plot.ly"
       },
       "data": [
        {
         "colorscale": [
          [
           0,
           "#440154"
          ],
          [
           0.1111111111111111,
           "#482878"
          ],
          [
           0.2222222222222222,
           "#3e4989"
          ],
          [
           0.3333333333333333,
           "#31688e"
          ],
          [
           0.4444444444444444,
           "#26828e"
          ],
          [
           0.5555555555555556,
           "#1f9e89"
          ],
          [
           0.6666666666666666,
           "#35b779"
          ],
          [
           0.7777777777777778,
           "#6ece58"
          ],
          [
           0.8888888888888888,
           "#b5de2b"
          ],
          [
           1,
           "#fde725"
          ]
         ],
         "type": "heatmap",
         "x": [
          "closing_price",
          "put_call_ratio",
          "market_cap_13f",
          "average_ranking",
          "net_buys",
          "held_by"
         ],
         "y": [
          "closing_price",
          "put_call_ratio",
          "market_cap_13f",
          "average_ranking",
          "net_buys",
          "held_by"
         ],
         "z": {
          "bdata": "AAAAAAAA8D/BEcfmPoJPvzwy7NVtTdk/TZRnzjse0r++ZqpoRQa1P+/syhEcx90/wRHH5j6CT78AAAAAAADwP+cbjgCMxJW/1Yatw1HVqj+Rp+xUhnq1v4D2EDSbBqK/PDLs1W1N2T/nG44AjMSVvwAAAAAAAPA/Vf9K68cr1b/lWM0LscO0P/Ly5ZkkFOs/TZRnzjse0r/Vhq3DUdWqP1X/SuvHK9W/AAAAAAAA8D+i+7Pg/jaDPxRLMESdrOG/vmaqaEUGtT+Rp+xUhnq1v+VYzQuxw7Q/ovuz4P42gz8AAAAAAADwP07y4wkXXqQ/7+zKERzH3T+A9hA0mwaiv/Ly5ZkkFOs/FEswRJ2s4b9O8uMJF16kPwAAAAAAAPA/",
          "dtype": "f8",
          "shape": "6, 6"
         }
        }
       ],
       "layout": {
        "font": {
         "color": "white"
        },
        "paper_bgcolor": "#1e2130",
        "plot_bgcolor": "#1e2130",
        "template": {
         "data": {
          "bar": [
           {
            "error_x": {
             "color": "#2a3f5f"
            },
            "error_y": {
             "color": "#2a3f5f"
            },
            "marker": {
             "line": {
              "color": "#E5ECF6",
              "width": 0.5
             },
             "pattern": {
              "fillmode": "overlay",
              "size": 10,
              "solidity": 0.2
             }
            },
            "type": "bar"
           }
          ],
          "barpolar": [
           {
            "marker": {
             "line": {
              "color": "#E5ECF6",
              "width": 0.5
             },
             "pattern": {
              "fillmode": "overlay",
              "size": 10,
              "solidity": 0.2
             }
            },
            "type": "barpolar"
           }
          ],
          "carpet": [
           {
            "aaxis": {
             "endlinecolor": "#2a3f5f",
             "gridcolor": "white",
             "linecolor": "white",
             "minorgridcolor": "white",
             "startlinecolor": "#2a3f5f"
            },
            "baxis": {
             "endlinecolor": "#2a3f5f",
             "gridcolor": "white",
             "linecolor": "white",
             "minorgridcolor": "white",
             "startlinecolor": "#2a3f5f"
            },
            "type": "carpet"
           }
          ],
          "choropleth": [
           {
            "colorbar": {
             "outlinewidth": 0,
             "ticks": ""
            },
            "type": "choropleth"
           }
          ],
          "contour": [
           {
            "colorbar": {
             "outlinewidth": 0,
             "ticks": ""
            },
            "colorscale": [
             [
              0,
              "#0d0887"
             ],
             [
              0.1111111111111111,
              "#46039f"
             ],
             [
              0.2222222222222222,
              "#7201a8"
             ],
             [
              0.3333333333333333,
              "#9c179e"
             ],
             [
              0.4444444444444444,
              "#bd3786"
             ],
             [
              0.5555555555555556,
              "#d8576b"
             ],
             [
              0.6666666666666666,
              "#ed7953"
             ],
             [
              0.7777777777777778,
              "#fb9f3a"
             ],
             [
              0.8888888888888888,
              "#fdca26"
             ],
             [
              1,
              "#f0f921"
             ]
            ],
            "type": "contour"
           }
          ],
          "contourcarpet": [
           {
            "colorbar": {
             "outlinewidth": 0,
             "ticks": ""
            },
            "type": "contourcarpet"
           }
          ],
          "heatmap": [
           {
            "colorbar": {
             "outlinewidth": 0,
             "ticks": ""
            },
            "colorscale": [
             [
              0,
              "#0d0887"
             ],
             [
              0.1111111111111111,
              "#46039f"
             ],
             [
              0.2222222222222222,
              "#7201a8"
             ],
             [
              0.3333333333333333,
              "#9c179e"
             ],
             [
              0.4444444444444444,
              "#bd3786"
             ],
             [
              0.5555555555555556,
              "#d8576b"
             ],
             [
              0.6666666666666666,
              "#ed7953"
             ],
             [
              0.7777777777777778,
              "#fb9f3a"
             ],
             [
              0.8888888888888888,
              "#fdca26"
             ],
             [
              1,
              "#f0f921"
             ]
            ],
            "type": "heatmap"
           }
          ],
          "histogram": [
           {
            "marker": {
             "pattern": {
              "fillmode": "overlay",
              "size": 10,
              "solidity": 0.2
             }
            },
            "type": "histogram"
           }
          ],
          "histogram2d": [
           {
            "colorbar": {
             "outlinewidth": 0,
             "ticks": ""
            },
            "colorscale": [
             [
              0,
              "#0d0887"
             ],
             [
              0.1111111111111111,
              "#46039f"
             ],
             [
              0.2222222222222222,
              "#7201a8"
             ],
             [
              0.3333333333333333,
              "#9c179e"
             ],
             [
              0.4444444444444444,
              "#bd3786"
             ],
             [
              0.5555555555555556,
              "#d8576b"
             ],
             [
              0.6666666666666666,
              "#ed7953"
             ],
             [
              0.7777777777777778,
              "#fb9f3a"
             ],
             [
              0.8888888888888888,
              "#fdca26"
             ],
             [
              1,
              "#f0f921"
             ]
            ],
            "type": "histogram2d"
           }
          ],
          "histogram2dcontour": [
           {
            "colorbar": {
             "outlinewidth": 0,
             "ticks": ""
            },
            "colorscale": [
             [
              0,
              "#0d0887"
             ],
             [
              0.1111111111111111,
              "#46039f"
             ],
             [
              0.2222222222222222,
              "#7201a8"
             ],
             [
              0.3333333333333333,
              "#9c179e"
             ],
             [
              0.4444444444444444,
              "#bd3786"
             ],
             [
              0.5555555555555556,
              "#d8576b"
             ],
             [
              0.6666666666666666,
              "#ed7953"
             ],
             [
              0.7777777777777778,
              "#fb9f3a"
             ],
             [
              0.8888888888888888,
              "#fdca26"
             ],
             [
              1,
              "#f0f921"
             ]
            ],
            "type": "histogram2dcontour"
           }
          ],
          "mesh3d": [
           {
            "colorbar": {
             "outlinewidth": 0,
             "ticks": ""
            },
            "type": "mesh3d"
           }
          ],
          "parcoords": [
           {
            "line": {
             "colorbar": {
              "outlinewidth": 0,
              "ticks": ""
             }
            },
            "type": "parcoords"
           }
          ],
          "pie": [
           {
            "automargin": true,
            "type": "pie"
           }
          ],
          "scatter": [
           {
            "fillpattern": {
             "fillmode": "overlay",
             "size": 10,
             "solidity": 0.2
            },
            "type": "scatter"
           }
          ],
          "scatter3d": [
           {
            "line": {
             "colorbar": {
              "outlinewidth": 0,
              "ticks": ""
             }
            },
            "marker": {
             "colorbar": {
              "outlinewidth": 0,
              "ticks": ""
             }
            },
            "type": "scatter3d"
           }
          ],
          "scattercarpet": [
           {
            "marker": {
             "colorbar": {
              "outlinewidth": 0,
              "ticks": ""
             }
            },
            "type": "scattercarpet"
           }
          ],
          "scattergeo": [
           {
            "marker": {
             "colorbar": {
              "outlinewidth": 0,
              "ticks": ""
             }
            },
            "type": "scattergeo"
           }
          ],
          "scattergl": [
           {
            "marker": {
             "colorbar": {
              "outlinewidth": 0,
              "ticks": ""
             }
            },
            "type": "scattergl"
           }
          ],
          "scattermap": [
           {
            "marker": {
             "colorbar": {
              "outlinewidth": 0,
              "ticks": ""
             }
            },
            "type": "scattermap"
           }
          ],
          "scattermapbox": [
           {
            "marker": {
             "colorbar": {
              "outlinewidth": 0,
              "ticks": ""
             }
            },
            "type": "scattermapbox"
           }
          ],
          "scatterpolar": [
           {
            "marker": {
             "colorbar": {
              "outlinewidth": 0,
              "ticks": ""
             }
            },
            "type": "scatterpolar"
           }
          ],
          "scatterpolargl": [
           {
            "marker": {
             "colorbar": {
              "outlinewidth": 0,
              "ticks": ""
             }
            },
            "type": "scatterpolargl"
           }
          ],
          "scatterternary": [
           {
            "marker": {
             "colorbar": {
              "outlinewidth": 0,
              "ticks": ""
             }
            },
            "type": "scatterternary"
           }
          ],
          "surface": [
           {
            "colorbar": {
             "outlinewidth": 0,
             "ticks": ""
            },
            "colorscale": [
             [
              0,
              "#0d0887"
             ],
             [
              0.1111111111111111,
              "#46039f"
             ],
             [
              0.2222222222222222,
              "#7201a8"
             ],
             [
              0.3333333333333333,
              "#9c179e"
             ],
             [
              0.4444444444444444,
              "#bd3786"
             ],
             [
              0.5555555555555556,
              "#d8576b"
             ],
             [
              0.6666666666666666,
              "#ed7953"
             ],
             [
              0.7777777777777778,
              "#fb9f3a"
             ],
             [
              0.8888888888888888,
              "#fdca26"
             ],
             [
              1,
              "#f0f921"
             ]
            ],
            "type": "surface"
           }
          ],
          "table": [
           {
            "cells": {
             "fill": {
              "color": "#EBF0F8"
             },
             "line": {
              "color": "white"
             }
            },
            "header": {
             "fill": {
              "color": "#C8D4E3"
             },
             "line": {
              "color": "white"
             }
            },
            "type": "table"
           }
          ]
         },
         "layout": {
          "annotationdefaults": {
           "arrowcolor": "#2a3f5f",
           "arrowhead": 0,
           "arrowwidth": 1
          },
          "autotypenumbers": "strict",
          "coloraxis": {
           "colorbar": {
            "outlinewidth": 0,
            "ticks": ""
           }
          },
          "colorscale": {
           "diverging": [
            [
             0,
             "#8e0152"
            ],
            [
             0.1,
             "#c51b7d"
            ],
            [
             0.2,
             "#de77ae"
            ],
            [
             0.3,
             "#f1b6da"
            ],
            [
             0.4,
             "#fde0ef"
            ],
            [
             0.5,
             "#f7f7f7"
            ],
            [
             0.6,
             "#e6f5d0"
            ],
            [
             0.7,
             "#b8e186"
            ],
            [
             0.8,
             "#7fbc41"
            ],
            [
             0.9,
             "#4d9221"
            ],
            [
             1,
             "#276419"
            ]
           ],
           "sequential": [
            [
             0,
             "#0d0887"
            ],
            [
             0.1111111111111111,
             "#46039f"
            ],
            [
             0.2222222222222222,
             "#7201a8"
            ],
            [
             0.3333333333333333,
             "#9c179e"
            ],
            [
             0.4444444444444444,
             "#bd3786"
            ],
            [
             0.5555555555555556,
             "#d8576b"
            ],
            [
             0.6666666666666666,
             "#ed7953"
            ],
            [
             0.7777777777777778,
             "#fb9f3a"
            ],
            [
             0.8888888888888888,
             "#fdca26"
            ],
            [
             1,
             "#f0f921"
            ]
           ],
           "sequentialminus": [
            [
             0,
             "#0d0887"
            ],
            [
             0.1111111111111111,
             "#46039f"
            ],
            [
             0.2222222222222222,
             "#7201a8"
            ],
            [
             0.3333333333333333,
             "#9c179e"
            ],
            [
             0.4444444444444444,
             "#bd3786"
            ],
            [
             0.5555555555555556,
             "#d8576b"
            ],
            [
             0.6666666666666666,
             "#ed7953"
            ],
            [
             0.7777777777777778,
             "#fb9f3a"
            ],
            [
             0.8888888888888888,
             "#fdca26"
            ],
            [
             1,
             "#f0f921"
            ]
           ]
          },
          "colorway": [
           "#636efa",
           "#EF553B",
           "#00cc96",
           "#ab63fa",
           "#FFA15A",
           "#19d3f3",
           "#FF6692",
           "#B6E880",
           "#FF97FF",
           "#FECB52"
          ],
          "font": {
           "color": "#2a3f5f"
          },
          "geo": {
           "bgcolor": "white",
           "lakecolor": "white",
           "landcolor": "#E5ECF6",
           "showlakes": true,
           "showland": true,
           "subunitcolor": "white"
          },
          "hoverlabel": {
           "align": "left"
          },
          "hovermode": "closest",
          "mapbox": {
           "style": "light"
          },
          "paper_bgcolor": "white",
          "plot_bgcolor": "#E5ECF6",
          "polar": {
           "angularaxis": {
            "gridcolor": "white",
            "linecolor": "white",
            "ticks": ""
           },
           "bgcolor": "#E5ECF6",
           "radialaxis": {
            "gridcolor": "white",
            "linecolor": "white",
            "ticks": ""
           }
          },
          "scene": {
           "xaxis": {
            "backgroundcolor": "#E5ECF6",
            "gridcolor": "white",
            "gridwidth": 2,
            "linecolor": "white",
            "showbackground": true,
            "ticks": "",
            "zerolinecolor": "white"
           },
           "yaxis": {
            "backgroundcolor": "#E5ECF6",
            "gridcolor": "white",
            "gridwidth": 2,
            "linecolor": "white",
            "showbackground": true,
            "ticks": "",
            "zerolinecolor": "white"
           },
           "zaxis": {
            "backgroundcolor": "#E5ECF6",
            "gridcolor": "white",
            "gridwidth": 2,
            "linecolor": "white",
            "showbackground": true,
            "ticks": "",
            "zerolinecolor": "white"
           }
          },
          "shapedefaults": {
           "line": {
            "color": "#2a3f5f"
           }
          },
          "ternary": {
           "aaxis": {
            "gridcolor": "white",
            "linecolor": "white",
            "ticks": ""
           },
           "baxis": {
            "gridcolor": "white",
            "linecolor": "white",
            "ticks": ""
           },
           "bgcolor": "#E5ECF6",
           "caxis": {
            "gridcolor": "white",
            "linecolor": "white",
            "ticks": ""
           }
          },
          "title": {
           "x": 0.05
          },
          "xaxis": {
           "automargin": true,
           "gridcolor": "white",
           "linecolor": "white",
           "ticks": "",
           "title": {
            "standoff": 15
           },
           "zerolinecolor": "white",
           "zerolinewidth": 2
          },
          "yaxis": {
           "automargin": true,
           "gridcolor": "white",
           "linecolor": "white",
           "ticks": "",
           "title": {
            "standoff": 15
           },
           "zerolinecolor": "white",
           "zerolinewidth": 2
          }
         }
        },
        "title": {
         "text": "Correlation heatmap"
        },
        "xaxis": {
         "color": "white",
         "title": {
          "text": "фичи"
         }
        },
        "yaxis": {
         "color": "white",
         "title": {
          "text": "фичи"
         }
        }
       }
      }
     },
     "metadata": {},
     "output_type": "display_data"
    },
    {
     "data": {
      "text/plain": [
       "closing_price      1.000000\n",
       "put_call_ratio    -0.000962\n",
       "market_cap_13f     0.395351\n",
       "average_ranking   -0.283095\n",
       "net_buys           0.082127\n",
       "held_by            0.465278\n",
       "Name: closing_price, dtype: float64"
      ]
     },
     "execution_count": 478,
     "metadata": {},
     "output_type": "execute_result"
    }
   ],
   "source": [
    "# нормализуем признаки\n",
    "\n",
    "from sklearn.preprocessing import MinMaxScaler\n",
    "\n",
    "# нормализация данных по каждому кварталу\n",
    "def normalize_quarter_data(df, quarter_id):\n",
    "    quarter_data = df[df['quarter_id'] == quarter_id]\n",
    "\n",
    "    scaler = MinMaxScaler()\n",
    "    quarter_data_normalized = quarter_data.copy()\n",
    "    quarter_data_normalized[['closing_price'] + numerical_cols] = scaler.fit_transform(quarter_data[['closing_price'] + numerical_cols])\n",
    "\n",
    "    return quarter_data_normalized\n",
    "\n",
    "# нормализуем данные для всех кварталов\n",
    "normalized_data = pd.concat([normalize_quarter_data(df_first_entries, qid) for qid in df_first_entries['quarter_id'].unique()])\n",
    "\n",
    "correlation_matrix = normalized_data[['closing_price'] + numerical_cols].corr()\n",
    "\n",
    "layout = go.Layout(\n",
    "    title='Correlation heatmap',\n",
    "    plot_bgcolor='#1e2130',\n",
    "    paper_bgcolor='#1e2130',\n",
    "    xaxis=dict(title='фичи', color='white'),\n",
    "    yaxis=dict(title='фичи', color='white'),\n",
    "    font=dict(color='white')\n",
    ")\n",
    "\n",
    "heatmap = go.Heatmap(\n",
    "    z=correlation_matrix.values,\n",
    "    x=correlation_matrix.columns,\n",
    "    y=correlation_matrix.index,\n",
    "    colorscale='Viridis'\n",
    ")\n",
    "\n",
    "fig = go.Figure(data=[heatmap], layout=layout)\n",
    "fig.show()\n",
    "correlation_matrix.closing_price"
   ]
  },
  {
   "cell_type": "code",
   "execution_count": 479,
   "metadata": {},
   "outputs": [
    {
     "name": "stdout",
     "output_type": "stream",
     "text": [
      "\n",
      "и теперь становятся очевидны закономерности:\n",
      "\n",
      "put_call_ratio    -0.024157 - эти два показателя практически не связаны\n",
      "market_cap_13f     0.362706 - чем большую сумму вложили в компанию фонды, тем больше она растет\n",
      "average_ranking   -0.253537 - высокий рейтинг акций по системе whalewisdom может быть плохим знаком - чем ниже rank, тем он лучше по определению\n",
      "net_buys           0.068267 - эти два показателя практически не связаны\n",
      "held_by            0.433013 - чем больше фондов держат в портфеле акцию, тем больше она растет\n",
      "\n",
      "\n"
     ]
    }
   ],
   "source": [
    "print('''\n",
    "и теперь становятся очевидны закономерности:\n",
    "\n",
    "put_call_ratio    -0.024157 - эти два показателя практически не связаны\n",
    "market_cap_13f     0.362706 - чем большую сумму вложили в компанию фонды, тем больше она растет\n",
    "average_ranking   -0.253537 - высокий рейтинг акций по системе whalewisdom может быть плохим знаком - чем ниже rank, тем он лучше по определению\n",
    "net_buys           0.068267 - эти два показателя практически не связаны\n",
    "held_by            0.433013 - чем больше фондов держат в портфеле акцию, тем больше она растет\n",
    "\n",
    "''')"
   ]
  },
  {
   "cell_type": "code",
   "execution_count": 480,
   "metadata": {},
   "outputs": [
    {
     "name": "stdout",
     "output_type": "stream",
     "text": [
      "Доходность портфеля за квартал 89: 1.78% (10.92% vs IBB)\n",
      "Доходность портфеля за квартал 90: -0.70% (-1.32% vs IBB)\n",
      "Доходность портфеля за квартал 91: 4.17% (2.35% vs IBB)\n",
      "Доходность портфеля за квартал 92: 4.43% (-0.31% vs IBB)\n",
      "Доходность портфеля за квартал 93: -6.70% (7.86% vs IBB)\n",
      "Доходность портфеля за квартал 94: 7.28% (6.46% vs IBB)\n",
      "Доходность портфеля за квартал 95: 0.78% (0.90% vs IBB)\n",
      "Доходность портфеля за квартал 96: 2.61% (8.45% vs IBB)\n",
      "Средняя чистая доходность за все кварталы: 1.71%\n",
      "Средняя доходность относительно IBB (рынка) за все кварталы: 4.41%\n",
      "Средняя чистая доходность за все кварталы (в год): 6.83%\n",
      "Средняя доходность относительно IBB (рынка) за все кварталы (в год): 17.65%\n"
     ]
    }
   ],
   "source": [
    "# попробуем собрать портфель, основываясь на этих инсайтах - нужно взять акции, лидирующие по market_cap_13f/held_by (и, возможно, дать дополнительный вес акциям с низким average_ranking)\n",
    "\n",
    "# рассчет скоринга\n",
    "# здесь будем использовать ballpark figures, тк за полноценную модель доп. баллы не обещали\n",
    "normalized_data['scoring'] = 2 * normalized_data['market_cap_13f'] + 1 * normalized_data['held_by'] - 0.5 * normalized_data['average_ranking']\n",
    "\n",
    "# cоздание портфелей для всех кварталов\n",
    "def get_top_stocks_for_quarter(data, quarter_id, top_n=20):\n",
    "    quarter_data = data[data['quarter_id'] == quarter_id]\n",
    "    top_stocks = quarter_data.nlargest(top_n, 'scoring')\n",
    "    return top_stocks\n",
    "\n",
    "portfolios = {qid: get_top_stocks_for_quarter(normalized_data, qid) for qid in normalized_data['quarter_id'].unique()}\n",
    "\n",
    "# расчет доходности портфеля\n",
    "def compute_portfolio_return(portfolio):\n",
    "    return portfolio['pct_change_vs_ibb'].mean(), portfolio['pct_change'].mean()\n",
    "\n",
    "portfolio_returns = {qid: compute_portfolio_return(portfolio) for qid, portfolio in portfolios.items()}\n",
    "\n",
    "# считаем доходность\n",
    "for qid, (portfolio_return_net, portfolio_return_alpha) in portfolio_returns.items():\n",
    "    print(f'Доходность портфеля за квартал {qid}: {portfolio_return_net:.2%} ({portfolio_return_alpha:.2%} vs IBB)')\n",
    "\n",
    "net_returns = [returns[0] for returns in portfolio_returns.values()]\n",
    "alpha_returns = [returns[1] for returns in portfolio_returns.values()]\n",
    "\n",
    "average_net_return_all_quarters = np.mean(net_returns)\n",
    "average_vs_ibb_return_all_quarters = np.mean(alpha_returns)\n",
    "\n",
    "print(f'Средняя чистая доходность за все кварталы: {average_net_return_all_quarters:.2%}')\n",
    "print(f'Средняя доходность относительно IBB (рынка) за все кварталы: {average_vs_ibb_return_all_quarters:.2%}')\n",
    "print(f'Средняя чистая доходность за все кварталы (в год): {average_net_return_all_quarters * 4:.2%}')\n",
    "print(f'Средняя доходность относительно IBB (рынка) за все кварталы (в год): {average_vs_ibb_return_all_quarters * 4:.2%}')"
   ]
  },
  {
   "cell_type": "code",
   "execution_count": 481,
   "metadata": {},
   "outputs": [
    {
     "name": "stdout",
     "output_type": "stream",
     "text": [
      "Потрфель на текущий квартал: LLY, UNH, JNJ, ABBV, MRK, ABT, TMO, PFE, AMGN, ISRG, DHR, BMY, SYK, MDT, GILD, BSX, VRTX, ZTS, ELV, MCK\n"
     ]
    }
   ],
   "source": [
    "# конвертируем актуальный потрфель в тикеры\n",
    "\n",
    "current_portfolio_permalinks = list(portfolios.values())[-1]['stock_permalink']\n",
    "current_portfolio_tickers = current_portfolio_permalinks.map(df_stock_info.set_index('permalink')['stock_ticker'].to_dict())\n",
    "\n",
    "print(f'Потрфель на текущий квартал:', ', '.join(current_portfolio_tickers))"
   ]
  },
  {
   "cell_type": "code",
   "execution_count": 485,
   "metadata": {},
   "outputs": [
    {
     "name": "stdout",
     "output_type": "stream",
     "text": [
      "LLY: 857.20$ -> 920.63$ (7.40%)\n",
      "UNH: 500.73$ -> 474.96$ (-5.15%)\n",
      "JNJ: 154.99$ -> 165.02$ (6.47%)\n",
      "ABBV: 196.25$ -> 209.03$ (6.51%)\n",
      "MRK: 83.29$ -> 92.25$ (10.76%)\n",
      "ABT: 130.18$ -> 138.01$ (6.01%)\n",
      "TMO: 523.09$ -> 528.96$ (1.12%)\n",
      "PFE: 25.56$ -> 26.43$ (3.40%)\n",
      "AMGN: 292.80$ -> 308.06$ (5.21%)\n",
      "ISRG: 600.89$ -> 573.15$ (-4.62%)\n",
      "DHR: 204.53$ -> 207.76$ (1.58%)\n",
      "BMY: 54.43$ -> 59.62$ (9.54%)\n",
      "SYK: 385.61$ -> 386.19$ (0.15%)\n",
      "MDT: 86.07$ -> 92.02$ (6.91%)\n",
      "GILD: 105.25$ -> 114.31$ (8.61%)\n",
      "BSX: 105.35$ -> 103.79$ (-1.48%)\n",
      "VRTX: 462.11$ -> 479.79$ (3.83%)\n",
      "ZTS: 156.48$ -> 167.24$ (6.88%)\n",
      "ELV: 382.48$ -> 396.88$ (3.76%)\n",
      "MCK: 599.42$ -> 640.26$ (6.81%)\n"
     ]
    },
    {
     "data": {
      "application/vnd.plotly.v1+json": {
       "config": {
        "plotlyServerURL": "https://plot.ly"
       },
       "data": [
        {
         "name": "LLY",
         "type": "scatter",
         "x": {
          "bdata": "AAECAwQFBgcI",
          "dtype": "i1"
         },
         "xaxis": "x",
         "y": {
          "bdata": "AAAAoJnJikAAAABgZhiLQAAAAMD1SItAAAAAoHBNi0AAAABAM4uLQAAAAGBmLoxAAAAAgBSYjEAAAACgR0mMQAAAAEAKxYxA",
          "dtype": "f8"
         },
         "yaxis": "y"
        },
        {
         "name": "UNH",
         "type": "scatter",
         "x": {
          "bdata": "AAECAwQFBgcI",
          "dtype": "i1"
         },
         "xaxis": "x2",
         "y": {
          "bdata": "AAAAIK5Lf0AAAADgo/B/QAAAAGC4Zn9AAAAAYLgmfUAAAADgUdh8QAAAAIAUZn1AAAAAoHD5fEAAAADA9Uh9QAAAACBcr31A",
          "dtype": "f8"
         },
         "yaxis": "y2"
        },
        {
         "name": "JNJ",
         "type": "scatter",
         "x": {
          "bdata": "AAECAwQFBgcI",
          "dtype": "i1"
         },
         "xaxis": "x3",
         "y": {
          "bdata": "AAAAIK5fY0AAAADgerxjQAAAAIDC9WNAAAAAoJlJZEAAAAAgrndkQAAAAEDhwmRAAAAAYI9iZEAAAAAgXHdkQAAAAOCjoGRA",
          "dtype": "f8"
         },
         "yaxis": "y3"
        },
        {
         "name": "ABBV",
         "type": "scatter",
         "x": {
          "bdata": "AAECAwQFBgcI",
          "dtype": "i1"
         },
         "xaxis": "x4",
         "y": {
          "bdata": "AAAAAACIaEAAAABAM6toQAAAAAApHGlAAAAAYI9CaUAAAABgj4JpQAAAAOB6hGlAAAAA4FFgaUAAAADgo6BpQAAAAMD1IGpA",
          "dtype": "f8"
         },
         "yaxis": "y4"
        },
        {
         "name": "MRK",
         "type": "scatter",
         "x": {
          "bdata": "AAECAwQFBgcI",
          "dtype": "i1"
         },
         "xaxis": "x5",
         "y": {
          "bdata": "AAAAYI/SVEAAAABgZmZVQAAAACCF61VAAAAAAABgVkAAAACgR9FWQAAAACCF21ZAAAAA4FFYVkAAAADAHqVWQAAAAAAAEFdA",
          "dtype": "f8"
         },
         "yaxis": "y5"
        },
        {
         "name": "ABT",
         "type": "scatter",
         "x": {
          "bdata": "AAECAwQFBgcI",
          "dtype": "i1"
         },
         "xaxis": "x6",
         "y": {
          "bdata": "AAAAgMJFYEAAAAAAKYRgQAAAAKBwpWBAAAAAoHDdYEAAAABgZt5gQAAAAIA9+mBAAAAAYLj+YEAAAAAA1/tgQAAAAOBRQGFA",
          "dtype": "f8"
         },
         "yaxis": "y6"
        },
        {
         "name": "TMO",
         "type": "scatter",
         "x": {
          "bdata": "AAECAwQFBgcI",
          "dtype": "i1"
         },
         "xaxis": "x7",
         "y": {
          "bdata": "AAAAYLhYgEAAAABA4ZaAQAAAAOCjzoBAAAAAYGakgEAAAABgZryAQAAAAGBm3IBAAAAA4FGqgEAAAAAA11mAQAAAACCuh4BA",
          "dtype": "f8"
         },
         "yaxis": "y7"
        },
        {
         "name": "PFE",
         "type": "scatter",
         "x": {
          "bdata": "AAECAwQFBgcI",
          "dtype": "i1"
         },
         "xaxis": "x8",
         "y": {
          "bdata": "AAAAIFyPOUAAAAAA1+M5QAAAAGBm5jlAAAAAwMxMOkAAAABgZqY6QAAAAKBwvTpAAAAAIIVrOkAAAACgmRk6QAAAAIAUbjpA",
          "dtype": "f8"
         },
         "yaxis": "y8"
        },
        {
         "name": "AMGN",
         "type": "scatter",
         "x": {
          "bdata": "AAECAwQFBgcI",
          "dtype": "i1"
         },
         "xaxis": "x9",
         "y": {
          "bdata": "AAAAwMxMckAAAADgUWRyQAAAAEDhnnJAAAAAACnwckAAAAAghVtzQAAAAIAUunNAAAAAgBQmc0AAAADAHh1zQAAAAMD1QHNA",
          "dtype": "f8"
         },
         "yaxis": "y9"
        },
        {
         "name": "ISRG",
         "type": "scatter",
         "x": {
          "bdata": "AAECAwQFBgcI",
          "dtype": "i1"
         },
         "xaxis": "x10",
         "y": {
          "bdata": "AAAAwB7HgkAAAAAA1wODQAAAAGCP9IJAAAAA4FF+gkAAAACAFHiCQAAAAIDr7YFAAAAAoHAngkAAAAAAKZ6BQAAAAEAz6YFA",
          "dtype": "f8"
         },
         "yaxis": "y10"
        },
        {
         "name": "DHR",
         "type": "scatter",
         "x": {
          "bdata": "AAECAwQFBgcI",
          "dtype": "i1"
         },
         "xaxis": "x11",
         "y": {
          "bdata": "AAAAwPWQaUAAAAAgXJ9pQAAAAGBm/mlAAAAAIFxHakAAAADgemRqQAAAAMAeTWpAAAAAgBQuakAAAABguLZpQAAAAOBR+GlA",
          "dtype": "f8"
         },
         "yaxis": "y11"
        },
        {
         "name": "BMY",
         "type": "scatter",
         "x": {
          "bdata": "AAECAwQFBgcI",
          "dtype": "i1"
         },
         "xaxis": "x12",
         "y": {
          "bdata": "AAAAQAo3S0AAAACgcH1LQAAAAMAe5UtAAAAAgD3qS0AAAADgo/BMQAAAAEDhGk1AAAAA4KOwTEAAAABgZmZNQAAAACBcz01A",
          "dtype": "f8"
         },
         "yaxis": "y12"
        },
        {
         "name": "SYK",
         "type": "scatter",
         "x": {
          "bdata": "AAECAwQFBgcI",
          "dtype": "i1"
         },
         "xaxis": "x13",
         "y": {
          "bdata": "AAAAgMIZeEAAAADgUUh4QAAAAGCPJnhAAAAA4Hrsd0AAAABguD54QAAAAMDMZHhAAAAAANd7eEAAAABgZk54QAAAAEAKI3hA",
          "dtype": "f8"
         },
         "yaxis": "y13"
        },
        {
         "name": "MDT",
         "type": "scatter",
         "x": {
          "bdata": "AAECAwQFBgcI",
          "dtype": "i1"
         },
         "xaxis": "x14",
         "y": {
          "bdata": "AAAA4HqEVUAAAAAAAMBVQAAAAAAp/FVAAAAAACl8VkAAAABA4YpWQAAAAGC4nlZAAAAAwB6lVkAAAAAgXK9WQAAAAKBHAVdA",
          "dtype": "f8"
         },
         "yaxis": "y14"
        },
        {
         "name": "GILD",
         "type": "scatter",
         "x": {
          "bdata": "AAECAwQFBgcI",
          "dtype": "i1"
         },
         "xaxis": "x15",
         "y": {
          "bdata": "AAAAAABQWkAAAACgmelaQAAAAIDrgVtAAAAAwMx8W0AAAACA68FbQAAAAIDr4VtAAAAAoHCdW0AAAAAgXP9bQAAAAADXk1xA",
          "dtype": "f8"
         },
         "yaxis": "y15"
        },
        {
         "name": "BSX",
         "type": "scatter",
         "x": {
          "bdata": "AAECAwQFBgcI",
          "dtype": "i1"
         },
         "xaxis": "x16",
         "y": {
          "bdata": "AAAAYGZWWkAAAABA4WpaQAAAAEAKV1pAAAAAIFwfWkAAAADA9RhaQAAAAIAULllAAAAAANdjWUAAAABAMzNZQAAAAGCP8llA",
          "dtype": "f8"
         },
         "yaxis": "y16"
        },
        {
         "name": "VRTX",
         "type": "scatter",
         "x": {
          "bdata": "AAECAwQFBgcI",
          "dtype": "i1"
         },
         "xaxis": "x17",
         "y": {
          "bdata": "AAAAgMLhfEAAAAAAKXx9QAAAAKBHBX5AAAAAANdDfkAAAABgZhp+QAAAAKCZBX5AAAAAoJnxfUAAAAAAAKh9QAAAAOCj/H1A",
          "dtype": "f8"
         },
         "yaxis": "y17"
        },
        {
         "name": "ZTS",
         "type": "scatter",
         "x": {
          "bdata": "AAECAwQFBgcI",
          "dtype": "i1"
         },
         "xaxis": "x18",
         "y": {
          "bdata": "AAAAIFyPY0AAAADgepRjQAAAAKBwrWNAAAAAYLgOZEAAAACA66lkQAAAAMD1EGVAAAAAIK6fZEAAAAAgXJ9kQAAAACCu52RA",
          "dtype": "f8"
         },
         "yaxis": "y18"
        },
        {
         "name": "ELV",
         "type": "scatter",
         "x": {
          "bdata": "AAECAwQFBgcI",
          "dtype": "i1"
         },
         "xaxis": "x19",
         "y": {
          "bdata": "AAAAIK7nd0AAAAAgXHt4QAAAAAAAaHhAAAAAoJkReEAAAAAAKRR4QAAAAEDhHnlAAAAAgBQieEAAAACA6414QAAAAIAUznhA",
          "dtype": "f8"
         },
         "yaxis": "y19"
        },
        {
         "name": "MCK",
         "type": "scatter",
         "x": {
          "bdata": "AAECAwQFBgcI",
          "dtype": "i1"
         },
         "xaxis": "x20",
         "y": {
          "bdata": "AAAAIFy7gkAAAACA69WCQAAAAIAU3IJAAAAAIK6tgkAAAACAFO6CQAAAAOCjmINAAAAAwPV8g0AAAADAzGaDQAAAAIAUAoRA",
          "dtype": "f8"
         },
         "yaxis": "y20"
        }
       ],
       "layout": {
        "annotations": [
         {
          "font": {
           "size": 16
          },
          "showarrow": false,
          "text": "LLY",
          "x": 0.10625,
          "xanchor": "center",
          "xref": "paper",
          "y": 1,
          "yanchor": "bottom",
          "yref": "paper"
         },
         {
          "font": {
           "size": 16
          },
          "showarrow": false,
          "text": "UNH",
          "x": 0.36875,
          "xanchor": "center",
          "xref": "paper",
          "y": 1,
          "yanchor": "bottom",
          "yref": "paper"
         },
         {
          "font": {
           "size": 16
          },
          "showarrow": false,
          "text": "JNJ",
          "x": 0.6312500000000001,
          "xanchor": "center",
          "xref": "paper",
          "y": 1,
          "yanchor": "bottom",
          "yref": "paper"
         },
         {
          "font": {
           "size": 16
          },
          "showarrow": false,
          "text": "ABBV",
          "x": 0.89375,
          "xanchor": "center",
          "xref": "paper",
          "y": 1,
          "yanchor": "bottom",
          "yref": "paper"
         },
         {
          "font": {
           "size": 16
          },
          "showarrow": false,
          "text": "MRK",
          "x": 0.10625,
          "xanchor": "center",
          "xref": "paper",
          "y": 0.78,
          "yanchor": "bottom",
          "yref": "paper"
         },
         {
          "font": {
           "size": 16
          },
          "showarrow": false,
          "text": "ABT",
          "x": 0.36875,
          "xanchor": "center",
          "xref": "paper",
          "y": 0.78,
          "yanchor": "bottom",
          "yref": "paper"
         },
         {
          "font": {
           "size": 16
          },
          "showarrow": false,
          "text": "TMO",
          "x": 0.6312500000000001,
          "xanchor": "center",
          "xref": "paper",
          "y": 0.78,
          "yanchor": "bottom",
          "yref": "paper"
         },
         {
          "font": {
           "size": 16
          },
          "showarrow": false,
          "text": "PFE",
          "x": 0.89375,
          "xanchor": "center",
          "xref": "paper",
          "y": 0.78,
          "yanchor": "bottom",
          "yref": "paper"
         },
         {
          "font": {
           "size": 16
          },
          "showarrow": false,
          "text": "AMGN",
          "x": 0.10625,
          "xanchor": "center",
          "xref": "paper",
          "y": 0.56,
          "yanchor": "bottom",
          "yref": "paper"
         },
         {
          "font": {
           "size": 16
          },
          "showarrow": false,
          "text": "ISRG",
          "x": 0.36875,
          "xanchor": "center",
          "xref": "paper",
          "y": 0.56,
          "yanchor": "bottom",
          "yref": "paper"
         },
         {
          "font": {
           "size": 16
          },
          "showarrow": false,
          "text": "DHR",
          "x": 0.6312500000000001,
          "xanchor": "center",
          "xref": "paper",
          "y": 0.56,
          "yanchor": "bottom",
          "yref": "paper"
         },
         {
          "font": {
           "size": 16
          },
          "showarrow": false,
          "text": "BMY",
          "x": 0.89375,
          "xanchor": "center",
          "xref": "paper",
          "y": 0.56,
          "yanchor": "bottom",
          "yref": "paper"
         },
         {
          "font": {
           "size": 16
          },
          "showarrow": false,
          "text": "SYK",
          "x": 0.10625,
          "xanchor": "center",
          "xref": "paper",
          "y": 0.33999999999999997,
          "yanchor": "bottom",
          "yref": "paper"
         },
         {
          "font": {
           "size": 16
          },
          "showarrow": false,
          "text": "MDT",
          "x": 0.36875,
          "xanchor": "center",
          "xref": "paper",
          "y": 0.33999999999999997,
          "yanchor": "bottom",
          "yref": "paper"
         },
         {
          "font": {
           "size": 16
          },
          "showarrow": false,
          "text": "GILD",
          "x": 0.6312500000000001,
          "xanchor": "center",
          "xref": "paper",
          "y": 0.33999999999999997,
          "yanchor": "bottom",
          "yref": "paper"
         },
         {
          "font": {
           "size": 16
          },
          "showarrow": false,
          "text": "BSX",
          "x": 0.89375,
          "xanchor": "center",
          "xref": "paper",
          "y": 0.33999999999999997,
          "yanchor": "bottom",
          "yref": "paper"
         },
         {
          "font": {
           "size": 16
          },
          "showarrow": false,
          "text": "VRTX",
          "x": 0.10625,
          "xanchor": "center",
          "xref": "paper",
          "y": 0.12,
          "yanchor": "bottom",
          "yref": "paper"
         },
         {
          "font": {
           "size": 16
          },
          "showarrow": false,
          "text": "ZTS",
          "x": 0.36875,
          "xanchor": "center",
          "xref": "paper",
          "y": 0.12,
          "yanchor": "bottom",
          "yref": "paper"
         },
         {
          "font": {
           "size": 16
          },
          "showarrow": false,
          "text": "ELV",
          "x": 0.6312500000000001,
          "xanchor": "center",
          "xref": "paper",
          "y": 0.12,
          "yanchor": "bottom",
          "yref": "paper"
         },
         {
          "font": {
           "size": 16
          },
          "showarrow": false,
          "text": "MCK",
          "x": 0.89375,
          "xanchor": "center",
          "xref": "paper",
          "y": 0.12,
          "yanchor": "bottom",
          "yref": "paper"
         }
        ],
        "font": {
         "color": "white"
        },
        "height": 750,
        "paper_bgcolor": "#1e2130",
        "plot_bgcolor": "#1e2130",
        "showlegend": false,
        "template": {
         "data": {
          "bar": [
           {
            "error_x": {
             "color": "#2a3f5f"
            },
            "error_y": {
             "color": "#2a3f5f"
            },
            "marker": {
             "line": {
              "color": "#E5ECF6",
              "width": 0.5
             },
             "pattern": {
              "fillmode": "overlay",
              "size": 10,
              "solidity": 0.2
             }
            },
            "type": "bar"
           }
          ],
          "barpolar": [
           {
            "marker": {
             "line": {
              "color": "#E5ECF6",
              "width": 0.5
             },
             "pattern": {
              "fillmode": "overlay",
              "size": 10,
              "solidity": 0.2
             }
            },
            "type": "barpolar"
           }
          ],
          "carpet": [
           {
            "aaxis": {
             "endlinecolor": "#2a3f5f",
             "gridcolor": "white",
             "linecolor": "white",
             "minorgridcolor": "white",
             "startlinecolor": "#2a3f5f"
            },
            "baxis": {
             "endlinecolor": "#2a3f5f",
             "gridcolor": "white",
             "linecolor": "white",
             "minorgridcolor": "white",
             "startlinecolor": "#2a3f5f"
            },
            "type": "carpet"
           }
          ],
          "choropleth": [
           {
            "colorbar": {
             "outlinewidth": 0,
             "ticks": ""
            },
            "type": "choropleth"
           }
          ],
          "contour": [
           {
            "colorbar": {
             "outlinewidth": 0,
             "ticks": ""
            },
            "colorscale": [
             [
              0,
              "#0d0887"
             ],
             [
              0.1111111111111111,
              "#46039f"
             ],
             [
              0.2222222222222222,
              "#7201a8"
             ],
             [
              0.3333333333333333,
              "#9c179e"
             ],
             [
              0.4444444444444444,
              "#bd3786"
             ],
             [
              0.5555555555555556,
              "#d8576b"
             ],
             [
              0.6666666666666666,
              "#ed7953"
             ],
             [
              0.7777777777777778,
              "#fb9f3a"
             ],
             [
              0.8888888888888888,
              "#fdca26"
             ],
             [
              1,
              "#f0f921"
             ]
            ],
            "type": "contour"
           }
          ],
          "contourcarpet": [
           {
            "colorbar": {
             "outlinewidth": 0,
             "ticks": ""
            },
            "type": "contourcarpet"
           }
          ],
          "heatmap": [
           {
            "colorbar": {
             "outlinewidth": 0,
             "ticks": ""
            },
            "colorscale": [
             [
              0,
              "#0d0887"
             ],
             [
              0.1111111111111111,
              "#46039f"
             ],
             [
              0.2222222222222222,
              "#7201a8"
             ],
             [
              0.3333333333333333,
              "#9c179e"
             ],
             [
              0.4444444444444444,
              "#bd3786"
             ],
             [
              0.5555555555555556,
              "#d8576b"
             ],
             [
              0.6666666666666666,
              "#ed7953"
             ],
             [
              0.7777777777777778,
              "#fb9f3a"
             ],
             [
              0.8888888888888888,
              "#fdca26"
             ],
             [
              1,
              "#f0f921"
             ]
            ],
            "type": "heatmap"
           }
          ],
          "histogram": [
           {
            "marker": {
             "pattern": {
              "fillmode": "overlay",
              "size": 10,
              "solidity": 0.2
             }
            },
            "type": "histogram"
           }
          ],
          "histogram2d": [
           {
            "colorbar": {
             "outlinewidth": 0,
             "ticks": ""
            },
            "colorscale": [
             [
              0,
              "#0d0887"
             ],
             [
              0.1111111111111111,
              "#46039f"
             ],
             [
              0.2222222222222222,
              "#7201a8"
             ],
             [
              0.3333333333333333,
              "#9c179e"
             ],
             [
              0.4444444444444444,
              "#bd3786"
             ],
             [
              0.5555555555555556,
              "#d8576b"
             ],
             [
              0.6666666666666666,
              "#ed7953"
             ],
             [
              0.7777777777777778,
              "#fb9f3a"
             ],
             [
              0.8888888888888888,
              "#fdca26"
             ],
             [
              1,
              "#f0f921"
             ]
            ],
            "type": "histogram2d"
           }
          ],
          "histogram2dcontour": [
           {
            "colorbar": {
             "outlinewidth": 0,
             "ticks": ""
            },
            "colorscale": [
             [
              0,
              "#0d0887"
             ],
             [
              0.1111111111111111,
              "#46039f"
             ],
             [
              0.2222222222222222,
              "#7201a8"
             ],
             [
              0.3333333333333333,
              "#9c179e"
             ],
             [
              0.4444444444444444,
              "#bd3786"
             ],
             [
              0.5555555555555556,
              "#d8576b"
             ],
             [
              0.6666666666666666,
              "#ed7953"
             ],
             [
              0.7777777777777778,
              "#fb9f3a"
             ],
             [
              0.8888888888888888,
              "#fdca26"
             ],
             [
              1,
              "#f0f921"
             ]
            ],
            "type": "histogram2dcontour"
           }
          ],
          "mesh3d": [
           {
            "colorbar": {
             "outlinewidth": 0,
             "ticks": ""
            },
            "type": "mesh3d"
           }
          ],
          "parcoords": [
           {
            "line": {
             "colorbar": {
              "outlinewidth": 0,
              "ticks": ""
             }
            },
            "type": "parcoords"
           }
          ],
          "pie": [
           {
            "automargin": true,
            "type": "pie"
           }
          ],
          "scatter": [
           {
            "fillpattern": {
             "fillmode": "overlay",
             "size": 10,
             "solidity": 0.2
            },
            "type": "scatter"
           }
          ],
          "scatter3d": [
           {
            "line": {
             "colorbar": {
              "outlinewidth": 0,
              "ticks": ""
             }
            },
            "marker": {
             "colorbar": {
              "outlinewidth": 0,
              "ticks": ""
             }
            },
            "type": "scatter3d"
           }
          ],
          "scattercarpet": [
           {
            "marker": {
             "colorbar": {
              "outlinewidth": 0,
              "ticks": ""
             }
            },
            "type": "scattercarpet"
           }
          ],
          "scattergeo": [
           {
            "marker": {
             "colorbar": {
              "outlinewidth": 0,
              "ticks": ""
             }
            },
            "type": "scattergeo"
           }
          ],
          "scattergl": [
           {
            "marker": {
             "colorbar": {
              "outlinewidth": 0,
              "ticks": ""
             }
            },
            "type": "scattergl"
           }
          ],
          "scattermap": [
           {
            "marker": {
             "colorbar": {
              "outlinewidth": 0,
              "ticks": ""
             }
            },
            "type": "scattermap"
           }
          ],
          "scattermapbox": [
           {
            "marker": {
             "colorbar": {
              "outlinewidth": 0,
              "ticks": ""
             }
            },
            "type": "scattermapbox"
           }
          ],
          "scatterpolar": [
           {
            "marker": {
             "colorbar": {
              "outlinewidth": 0,
              "ticks": ""
             }
            },
            "type": "scatterpolar"
           }
          ],
          "scatterpolargl": [
           {
            "marker": {
             "colorbar": {
              "outlinewidth": 0,
              "ticks": ""
             }
            },
            "type": "scatterpolargl"
           }
          ],
          "scatterternary": [
           {
            "marker": {
             "colorbar": {
              "outlinewidth": 0,
              "ticks": ""
             }
            },
            "type": "scatterternary"
           }
          ],
          "surface": [
           {
            "colorbar": {
             "outlinewidth": 0,
             "ticks": ""
            },
            "colorscale": [
             [
              0,
              "#0d0887"
             ],
             [
              0.1111111111111111,
              "#46039f"
             ],
             [
              0.2222222222222222,
              "#7201a8"
             ],
             [
              0.3333333333333333,
              "#9c179e"
             ],
             [
              0.4444444444444444,
              "#bd3786"
             ],
             [
              0.5555555555555556,
              "#d8576b"
             ],
             [
              0.6666666666666666,
              "#ed7953"
             ],
             [
              0.7777777777777778,
              "#fb9f3a"
             ],
             [
              0.8888888888888888,
              "#fdca26"
             ],
             [
              1,
              "#f0f921"
             ]
            ],
            "type": "surface"
           }
          ],
          "table": [
           {
            "cells": {
             "fill": {
              "color": "#EBF0F8"
             },
             "line": {
              "color": "white"
             }
            },
            "header": {
             "fill": {
              "color": "#C8D4E3"
             },
             "line": {
              "color": "white"
             }
            },
            "type": "table"
           }
          ]
         },
         "layout": {
          "annotationdefaults": {
           "arrowcolor": "#2a3f5f",
           "arrowhead": 0,
           "arrowwidth": 1
          },
          "autotypenumbers": "strict",
          "coloraxis": {
           "colorbar": {
            "outlinewidth": 0,
            "ticks": ""
           }
          },
          "colorscale": {
           "diverging": [
            [
             0,
             "#8e0152"
            ],
            [
             0.1,
             "#c51b7d"
            ],
            [
             0.2,
             "#de77ae"
            ],
            [
             0.3,
             "#f1b6da"
            ],
            [
             0.4,
             "#fde0ef"
            ],
            [
             0.5,
             "#f7f7f7"
            ],
            [
             0.6,
             "#e6f5d0"
            ],
            [
             0.7,
             "#b8e186"
            ],
            [
             0.8,
             "#7fbc41"
            ],
            [
             0.9,
             "#4d9221"
            ],
            [
             1,
             "#276419"
            ]
           ],
           "sequential": [
            [
             0,
             "#0d0887"
            ],
            [
             0.1111111111111111,
             "#46039f"
            ],
            [
             0.2222222222222222,
             "#7201a8"
            ],
            [
             0.3333333333333333,
             "#9c179e"
            ],
            [
             0.4444444444444444,
             "#bd3786"
            ],
            [
             0.5555555555555556,
             "#d8576b"
            ],
            [
             0.6666666666666666,
             "#ed7953"
            ],
            [
             0.7777777777777778,
             "#fb9f3a"
            ],
            [
             0.8888888888888888,
             "#fdca26"
            ],
            [
             1,
             "#f0f921"
            ]
           ],
           "sequentialminus": [
            [
             0,
             "#0d0887"
            ],
            [
             0.1111111111111111,
             "#46039f"
            ],
            [
             0.2222222222222222,
             "#7201a8"
            ],
            [
             0.3333333333333333,
             "#9c179e"
            ],
            [
             0.4444444444444444,
             "#bd3786"
            ],
            [
             0.5555555555555556,
             "#d8576b"
            ],
            [
             0.6666666666666666,
             "#ed7953"
            ],
            [
             0.7777777777777778,
             "#fb9f3a"
            ],
            [
             0.8888888888888888,
             "#fdca26"
            ],
            [
             1,
             "#f0f921"
            ]
           ]
          },
          "colorway": [
           "#636efa",
           "#EF553B",
           "#00cc96",
           "#ab63fa",
           "#FFA15A",
           "#19d3f3",
           "#FF6692",
           "#B6E880",
           "#FF97FF",
           "#FECB52"
          ],
          "font": {
           "color": "#2a3f5f"
          },
          "geo": {
           "bgcolor": "white",
           "lakecolor": "white",
           "landcolor": "#E5ECF6",
           "showlakes": true,
           "showland": true,
           "subunitcolor": "white"
          },
          "hoverlabel": {
           "align": "left"
          },
          "hovermode": "closest",
          "mapbox": {
           "style": "light"
          },
          "paper_bgcolor": "white",
          "plot_bgcolor": "#E5ECF6",
          "polar": {
           "angularaxis": {
            "gridcolor": "white",
            "linecolor": "white",
            "ticks": ""
           },
           "bgcolor": "#E5ECF6",
           "radialaxis": {
            "gridcolor": "white",
            "linecolor": "white",
            "ticks": ""
           }
          },
          "scene": {
           "xaxis": {
            "backgroundcolor": "#E5ECF6",
            "gridcolor": "white",
            "gridwidth": 2,
            "linecolor": "white",
            "showbackground": true,
            "ticks": "",
            "zerolinecolor": "white"
           },
           "yaxis": {
            "backgroundcolor": "#E5ECF6",
            "gridcolor": "white",
            "gridwidth": 2,
            "linecolor": "white",
            "showbackground": true,
            "ticks": "",
            "zerolinecolor": "white"
           },
           "zaxis": {
            "backgroundcolor": "#E5ECF6",
            "gridcolor": "white",
            "gridwidth": 2,
            "linecolor": "white",
            "showbackground": true,
            "ticks": "",
            "zerolinecolor": "white"
           }
          },
          "shapedefaults": {
           "line": {
            "color": "#2a3f5f"
           }
          },
          "ternary": {
           "aaxis": {
            "gridcolor": "white",
            "linecolor": "white",
            "ticks": ""
           },
           "baxis": {
            "gridcolor": "white",
            "linecolor": "white",
            "ticks": ""
           },
           "bgcolor": "#E5ECF6",
           "caxis": {
            "gridcolor": "white",
            "linecolor": "white",
            "ticks": ""
           }
          },
          "title": {
           "x": 0.05
          },
          "xaxis": {
           "automargin": true,
           "gridcolor": "white",
           "linecolor": "white",
           "ticks": "",
           "title": {
            "standoff": 15
           },
           "zerolinecolor": "white",
           "zerolinewidth": 2
          },
          "yaxis": {
           "automargin": true,
           "gridcolor": "white",
           "linecolor": "white",
           "ticks": "",
           "title": {
            "standoff": 15
           },
           "zerolinecolor": "white",
           "zerolinewidth": 2
          }
         }
        },
        "title": {
         "text": "Текущий потрфель с 16 февраля (1.04%)"
        },
        "xaxis": {
         "anchor": "y",
         "domain": [
          0,
          0.2125
         ]
        },
        "xaxis10": {
         "anchor": "y10",
         "domain": [
          0.2625,
          0.475
         ]
        },
        "xaxis11": {
         "anchor": "y11",
         "domain": [
          0.525,
          0.7375
         ]
        },
        "xaxis12": {
         "anchor": "y12",
         "domain": [
          0.7875,
          1
         ]
        },
        "xaxis13": {
         "anchor": "y13",
         "domain": [
          0,
          0.2125
         ]
        },
        "xaxis14": {
         "anchor": "y14",
         "domain": [
          0.2625,
          0.475
         ]
        },
        "xaxis15": {
         "anchor": "y15",
         "domain": [
          0.525,
          0.7375
         ]
        },
        "xaxis16": {
         "anchor": "y16",
         "domain": [
          0.7875,
          1
         ]
        },
        "xaxis17": {
         "anchor": "y17",
         "domain": [
          0,
          0.2125
         ]
        },
        "xaxis18": {
         "anchor": "y18",
         "domain": [
          0.2625,
          0.475
         ]
        },
        "xaxis19": {
         "anchor": "y19",
         "domain": [
          0.525,
          0.7375
         ]
        },
        "xaxis2": {
         "anchor": "y2",
         "domain": [
          0.2625,
          0.475
         ]
        },
        "xaxis20": {
         "anchor": "y20",
         "domain": [
          0.7875,
          1
         ]
        },
        "xaxis3": {
         "anchor": "y3",
         "domain": [
          0.525,
          0.7375
         ]
        },
        "xaxis4": {
         "anchor": "y4",
         "domain": [
          0.7875,
          1
         ]
        },
        "xaxis5": {
         "anchor": "y5",
         "domain": [
          0,
          0.2125
         ]
        },
        "xaxis6": {
         "anchor": "y6",
         "domain": [
          0.2625,
          0.475
         ]
        },
        "xaxis7": {
         "anchor": "y7",
         "domain": [
          0.525,
          0.7375
         ]
        },
        "xaxis8": {
         "anchor": "y8",
         "domain": [
          0.7875,
          1
         ]
        },
        "xaxis9": {
         "anchor": "y9",
         "domain": [
          0,
          0.2125
         ]
        },
        "yaxis": {
         "anchor": "x",
         "domain": [
          0.88,
          1
         ]
        },
        "yaxis10": {
         "anchor": "x10",
         "domain": [
          0.44,
          0.56
         ]
        },
        "yaxis11": {
         "anchor": "x11",
         "domain": [
          0.44,
          0.56
         ]
        },
        "yaxis12": {
         "anchor": "x12",
         "domain": [
          0.44,
          0.56
         ]
        },
        "yaxis13": {
         "anchor": "x13",
         "domain": [
          0.22,
          0.33999999999999997
         ]
        },
        "yaxis14": {
         "anchor": "x14",
         "domain": [
          0.22,
          0.33999999999999997
         ]
        },
        "yaxis15": {
         "anchor": "x15",
         "domain": [
          0.22,
          0.33999999999999997
         ]
        },
        "yaxis16": {
         "anchor": "x16",
         "domain": [
          0.22,
          0.33999999999999997
         ]
        },
        "yaxis17": {
         "anchor": "x17",
         "domain": [
          0,
          0.12
         ]
        },
        "yaxis18": {
         "anchor": "x18",
         "domain": [
          0,
          0.12
         ]
        },
        "yaxis19": {
         "anchor": "x19",
         "domain": [
          0,
          0.12
         ]
        },
        "yaxis2": {
         "anchor": "x2",
         "domain": [
          0.88,
          1
         ]
        },
        "yaxis20": {
         "anchor": "x20",
         "domain": [
          0,
          0.12
         ]
        },
        "yaxis3": {
         "anchor": "x3",
         "domain": [
          0.88,
          1
         ]
        },
        "yaxis4": {
         "anchor": "x4",
         "domain": [
          0.88,
          1
         ]
        },
        "yaxis5": {
         "anchor": "x5",
         "domain": [
          0.66,
          0.78
         ]
        },
        "yaxis6": {
         "anchor": "x6",
         "domain": [
          0.66,
          0.78
         ]
        },
        "yaxis7": {
         "anchor": "x7",
         "domain": [
          0.66,
          0.78
         ]
        },
        "yaxis8": {
         "anchor": "x8",
         "domain": [
          0.66,
          0.78
         ]
        },
        "yaxis9": {
         "anchor": "x9",
         "domain": [
          0.44,
          0.56
         ]
        }
       }
      }
     },
     "metadata": {},
     "output_type": "display_data"
    }
   ],
   "source": [
    "import requests\n",
    "from datetime import datetime, timedelta\n",
    "\n",
    "import plotly.graph_objs as go\n",
    "from plotly.subplots import make_subplots\n",
    "\n",
    "start_seconds = int(datetime.strptime('2025-02-16', '%Y-%m-%d').timestamp())\n",
    "end_seconds = int((datetime.now() + timedelta(10)).timestamp())\n",
    "\n",
    "current_portfolio_prices = pd.DataFrame()\n",
    "current_profit = 0\n",
    "\n",
    "for ticker in current_portfolio_tickers:\n",
    "    # запросы с пустым User-Agent отклоняются (по умолчанию он ставится питоновским), поэтому надо передать хоть что-то - zip\n",
    "    resp = requests.get(\n",
    "        f'https://query1.finance.yahoo.com/v8/finance/chart/{ticker}',\n",
    "        headers={'User-Agent': 'zip'},\n",
    "        params={'period1': start_seconds, 'period2': end_seconds, 'interval': '1d'},\n",
    "        timeout=5\n",
    "    ).json()\n",
    "    historical_prices = resp['chart']['result'][0]['indicators']['adjclose'][0]['adjclose']\n",
    "\n",
    "    initial_price = historical_prices[0]\n",
    "    final_price = historical_prices[-1]\n",
    "    current_profit += final_price / initial_price / len(current_portfolio_tickers)\n",
    "    current_portfolio_prices[ticker] = historical_prices\n",
    "    print(f'{ticker}: {initial_price:.2f}$ -> {final_price:.2f}$ ({final_price / initial_price * 100 - 100:.2f}%)')\n",
    "\n",
    "cols_n = 4\n",
    "rows_n = -(-len(current_portfolio_tickers) // cols_n)\n",
    "price_fig = make_subplots(rows=rows_n, cols=cols_n, subplot_titles=list(current_portfolio_tickers), horizontal_spacing=0.05, vertical_spacing=0.1)\n",
    "\n",
    "for i, ticker in enumerate(current_portfolio_tickers):\n",
    "    row = i // 4 + 1\n",
    "    col = i % 4 + 1\n",
    "    price_fig.add_trace(go.Scatter(x=current_portfolio_prices.index, y=current_portfolio_prices[ticker], name=ticker), row=row, col=col)\n",
    "    price_fig.update_yaxes(row=row, col=col)\n",
    "\n",
    "price_fig.update_layout(\n",
    "    height=150*rows_n,\n",
    "    title_text=f\"Текущий потрфель с 16 февраля ({current_profit:.2f}%)\",\n",
    "    showlegend=False,\n",
    "    plot_bgcolor='#1e2130',\n",
    "    paper_bgcolor='#1e2130',\n",
    "    font=dict(color='white')\n",
    ")\n",
    "price_fig.show()\n"
   ]
  }
 ],
 "metadata": {
  "kernelspec": {
   "display_name": ".venv",
   "language": "python",
   "name": "python3"
  },
  "language_info": {
   "codemirror_mode": {
    "name": "ipython",
    "version": 3
   },
   "file_extension": ".py",
   "mimetype": "text/x-python",
   "name": "python",
   "nbconvert_exporter": "python",
   "pygments_lexer": "ipython3",
   "version": "3.13.1"
  }
 },
 "nbformat": 4,
 "nbformat_minor": 2
}
